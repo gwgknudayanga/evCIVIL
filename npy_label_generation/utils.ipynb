{
 "cells": [
  {
   "cell_type": "code",
   "execution_count": 3,
   "metadata": {},
   "outputs": [],
   "source": [
    "import os\n",
    "import glob\n",
    "src_folder = \"/media/udayanga/data_2/shon_data/DATA/Laboratory_data/At_DTU_part_2/spalling/json_labels\"\n",
    "\n",
    "for sub_folder in os.listdir(src_folder):\n",
    "    json_files = glob.glob(os.path.join(src_folder,sub_folder) + \"/*_evframe.json\")\n",
    "    png_files = glob.glob(os.path.join(src_folder,sub_folder) + \"/*_evframe.png\")\n",
    "    if len(json_files) != len(png_files):\n",
    "        print(sub_folder)"
   ]
  },
  {
   "cell_type": "code",
   "execution_count": 34,
   "metadata": {},
   "outputs": [],
   "source": [
    "from pathlib import Path\n",
    "import os"
   ]
  },
  {
   "cell_type": "code",
   "execution_count": 53,
   "metadata": {},
   "outputs": [],
   "source": [
    "def traverse_pathlib(path):\n",
    "    count_desired = 0\n",
    "    count_event_npy = 0\n",
    "    path_obj = Path(path)\n",
    "    for item in path_obj.rglob('*'):\n",
    "        if item.is_dir():\n",
    "            #if \"json_labels\" in item.read_text():\n",
    "            #if item.name == \"json_labels\":\n",
    "            #    print(f\"Directory: {item}\")\n",
    "                #count_desired += 1\n",
    "            s = [element for element in os.listdir(str(item.parent) + \"/\" + str(item.name))if os.path.isdir(os.path.join(str(item.parent),str(item.name),element))]\n",
    "            if len(s) == 0:\n",
    "                mm = [element for element in os.listdir(str(item.parent) + \"/\" + str(item.name)) if \".npy\" in element]\n",
    "                if len(mm) == 0:\n",
    "                    print(item)\n",
    "                count_desired += 1\n",
    "\n",
    "        else:\n",
    "            \"\"\"if item.suffix == \".npy\":\n",
    "                    if \"frame_label\" in str(item.name):\n",
    "                        count_desired += 1\n",
    "                    else:\n",
    "                         count_event_npy += 1\"\"\"\n",
    "\n",
    "\n",
    "    print(count_desired)\n",
    "    #print(count_event_npy)"
   ]
  },
  {
   "cell_type": "code",
   "execution_count": 54,
   "metadata": {},
   "outputs": [
    {
     "name": "stdout",
     "output_type": "stream",
     "text": [
      "/media/udayanga/data_2/shon_data/DATA_TO_HOST/ev-CIVIL_dataset/Field_dataset/field_data_day/dset_6/crack/h5_files\n",
      "319\n"
     ]
    }
   ],
   "source": [
    "path = \"/media/udayanga/data_2/shon_data/DATA_TO_HOST/ev-CIVIL_dataset/Field_dataset/\"\n",
    "traverse_pathlib(path)"
   ]
  },
  {
   "cell_type": "code",
   "execution_count": 1,
   "metadata": {},
   "outputs": [],
   "source": [
    "import numpy as np\n",
    "src = \"/media/udayanga/data_2/shon_data/DATA_TO_HOST/ev-CIVIL_dataset/Field_dataset/field_data_day/dset_2/spalling_36/spalling_36_label.npy\"\n",
    "\n",
    "qq = np.load(src)\n"
   ]
  },
  {
   "cell_type": "code",
   "execution_count": 69,
   "metadata": {},
   "outputs": [],
   "source": [
    "def traverse_pathlib(path):\n",
    "    count_desired = 0\n",
    "    count_event_npy = 0\n",
    "    path_obj = Path(path)\n",
    "    for item in path_obj.rglob('*'):\n",
    "        if item.is_dir():\n",
    "             continue\n",
    "        else:\n",
    "            if item.suffix == \".npy\":\n",
    "                full_path = os.path.join(str(item.parent),str(item.name))\n",
    "                unsorted_arr = np.load(full_path)\n",
    "                sorted_array = unsorted_arr[unsorted_arr[:,0].argsort()]\n",
    "                \n",
    "                print(item.name,\" \",np.argmin(sorted_array[:,0]))\n",
    "                np.save(full_path,sorted_array)\n",
    "                if \"frame_label\" in str(item.name):\n",
    "                    count_desired += 1\n",
    "                else:\n",
    "                    count_event_npy += 1\n",
    "    \n",
    "    print(count_desired)\n",
    "    print(count_event_npy)  "
   ]
  },
  {
   "cell_type": "code",
   "execution_count": 70,
   "metadata": {},
   "outputs": [
    {
     "name": "stdout",
     "output_type": "stream",
     "text": [
      "1_march_crack_3_label.npy   0\n",
      "1_march_crack_12_label.npy   0\n",
      "1_march_crack_11_label.npy   0\n",
      "1_march_crack_20_label.npy   0\n",
      "1_march_crack_6_label.npy   0\n",
      "1_march_crack_19_label.npy   0\n",
      "1_march_crack_9_label.npy   0\n",
      "1_march_crack_2_label.npy   0\n",
      "1_march_crack_4_label.npy   0\n",
      "1_march_crack_14_label.npy   0\n",
      "1_march_crack_8_label.npy   0\n",
      "1_march_crack_7_label.npy   0\n",
      "1_march_crack_16_label.npy   0\n",
      "1_march_crack_17_label.npy   0\n",
      "1_march_crack_5_label.npy   0\n",
      "1_march_crack_18_label.npy   0\n",
      "1_march_crack_13_label.npy   0\n",
      "1_march_crack_10_label.npy   0\n",
      "night_crack_6_label.npy   0\n",
      "night_crack_1_label.npy   0\n",
      "night_crack_3_label.npy   0\n",
      "night_crack_11_label.npy   0\n",
      "night_crack_13_label.npy   0\n",
      "night_crack_10_2_label.npy   0\n",
      "night_crack_5_label.npy   0\n",
      "night_crack_12_label.npy   0\n",
      "night_crack_7_label.npy   0\n",
      "8_march_normal_87_label.npy   0\n",
      "8_march_normal_81_label.npy   0\n",
      "8_march_normal_80_label.npy   0\n",
      "8_march_normal_82_label.npy   0\n",
      "25_Feb_8_label.npy   0\n",
      "25_Feb_16_label.npy   0\n",
      "25_Feb_14_label.npy   0\n",
      "25_Feb_7_label.npy   0\n",
      "25_Feb_15_label.npy   0\n",
      "25_Feb_4_label.npy   0\n",
      "25_Feb_13_label.npy   0\n",
      "25_Feb_11_label.npy   0\n",
      "25_Feb_3_label.npy   0\n",
      "25_Feb_2_label.npy   0\n",
      "25_Feb_9_label.npy   0\n",
      "25_Feb_6_label.npy   0\n",
      "21_feb_crack_1_label.npy   0\n",
      "21_feb_crack_2_label.npy   0\n",
      "21_feb_spalling_2_label.npy   0\n",
      "21_feb_crack_3_label.npy   0\n",
      "21_feb_spalling_3_label.npy   0\n",
      "21_feb_spalling_1_label.npy   0\n",
      "21_feb_spalling_4_label.npy   0\n",
      "8_march_72_label.npy   0\n",
      "8_march_71_label.npy   0\n",
      "8_march_74_label.npy   0\n",
      "8_march_69_label.npy   0\n",
      "8_march_76_label.npy   0\n",
      "8_march_70_label.npy   0\n",
      "8_march_75_label.npy   0\n",
      "8_march_77_label.npy   0\n",
      "8_march_73_label.npy   0\n",
      "01_Mar_9_label.npy   0\n",
      "01_Mar_4_label.npy   0\n",
      "01_Mar_13_label.npy   0\n",
      "01_Mar_2_label.npy   0\n",
      "01_Mar_6_label.npy   0\n",
      "01_Mar_8_label.npy   0\n",
      "01_Mar_7_label.npy   0\n",
      "01_Mar_10_label.npy   0\n",
      "01_Mar_3_label.npy   0\n",
      "01_Mar_11_label.npy   0\n",
      "01_Mar_12_label.npy   0\n",
      "synth_crack_63_label.npy   0\n",
      "synth_spalling_130_label.npy   0\n",
      "synth_spalling_32_label.npy   0\n",
      "synth_spalling_82_label.npy   0\n",
      "synth_spalling_65_label.npy   0\n",
      "synth_spalling_16_label.npy   0\n",
      "synth_spalling_110_label.npy   0\n",
      "synth_spalling_97_label.npy   0\n",
      "synth_spalling_91_label.npy   0\n",
      "synth_spalling_92_label.npy   0\n",
      "synth_crack_71_label.npy   0\n",
      "synth_spalling_11_label.npy   0\n",
      "synth_crack_70_label.npy   0\n",
      "synth_crack_4_label.npy   0\n",
      "synth_crack_13_label.npy   0\n",
      "synth_crack_1_label.npy   0\n",
      "synth_crack_66_label.npy   0\n",
      "synth_crack_5_label.npy   0\n",
      "synth_spalling_118_label.npy   0\n",
      "synth_spalling_114_label.npy   0\n",
      "synth_spalling_123_label.npy   0\n",
      "synth_crack_16_label.npy   0\n",
      "synth_spalling_134_label.npy   0\n",
      "synth_spalling_15_label.npy   0\n",
      "synth_spalling_125_label.npy   0\n",
      "synth_spalling_12_label.npy   0\n",
      "synth_crack_65_label.npy   0\n",
      "synth_spalling_1_label.npy   0\n",
      "synth_crack_68_label.npy   0\n",
      "synth_spalling_120_label.npy   0\n",
      "synth_spalling_60_label.npy   0\n",
      "synth_spalling_80_label.npy   0\n",
      "synth_spalling_93_label.npy   0\n",
      "synth_spalling_20_label.npy   0\n",
      "synth_spalling_104_label.npy   0\n",
      "synth_spalling_61_label.npy   0\n",
      "synth_spalling_58_label.npy   0\n",
      "synth_spalling_108_label.npy   0\n",
      "synth_spalling_63_label.npy   0\n",
      "synth_spalling_56_label.npy   0\n",
      "synth_spalling_21_label.npy   0\n",
      "synth_spalling_131_label.npy   0\n",
      "synth_spalling_98_label.npy   0\n",
      "synth_spalling_5_label.npy   0\n",
      "synth_spalling_117_label.npy   0\n",
      "synth_spalling_109_label.npy   0\n",
      "synth_spalling_89_label.npy   0\n",
      "synth_spalling_31_label.npy   0\n",
      "synth_spalling_26_label.npy   0\n",
      "synth_spalling_103_label.npy   0\n",
      "synth_spalling_94_label.npy   0\n",
      "synth_spalling_22_label.npy   0\n",
      "synth_crack_11_label.npy   0\n",
      "synth_spalling_27_label.npy   0\n",
      "synth_spalling_17_label.npy   0\n",
      "synth_spalling_28_label.npy   0\n",
      "synth_spalling_107_label.npy   0\n",
      "synth_spalling_81_label.npy   0\n",
      "synth_spalling_66_label.npy   0\n",
      "synth_spalling_78_label.npy   0\n",
      "synth_crack_10_label.npy   0\n",
      "synth_spalling_24_label.npy   0\n",
      "synth_spalling_69_label.npy   0\n",
      "synth_spalling_116_label.npy   0\n",
      "synth_crack_9_label.npy   0\n",
      "synth_crack_72_label.npy   0\n",
      "synth_spalling_129_label.npy   0\n",
      "synth_crack_2_label.npy   0\n",
      "synth_spalling_8_label.npy   0\n",
      "synth_spalling_72_label.npy   0\n",
      "synth_spalling_30_label.npy   0\n",
      "synth_spalling_70_label.npy   0\n",
      "synth_spalling_90_label.npy   0\n",
      "synth_spalling_100_label.npy   0\n",
      "synth_spalling_59_label.npy   0\n",
      "synth_crack_15_label.npy   0\n",
      "synth_spalling_14_label.npy   0\n",
      "synth_spalling_101_label.npy   0\n",
      "synth_spalling_75_label.npy   0\n",
      "synth_spalling_6_label.npy   0\n",
      "synth_crack_17_label.npy   0\n",
      "synth_spalling_106_label.npy   0\n",
      "synth_spalling_133_label.npy   0\n",
      "synth_spalling_76_label.npy   0\n",
      "synth_spalling_102_label.npy   0\n",
      "synth_spalling_67_label.npy   0\n",
      "synth_spalling_4_label.npy   0\n",
      "synth_spalling_77_label.npy   0\n",
      "synth_spalling_10_label.npy   0\n",
      "synth_spalling_113_label.npy   0\n",
      "synth_spalling_79_label.npy   0\n",
      "synth_spalling_84_label.npy   0\n",
      "synth_crack_6_label.npy   0\n",
      "synth_spalling_23_label.npy   0\n",
      "synth_spalling_68_label.npy   0\n",
      "synth_spalling_86_label.npy   0\n",
      "synth_crack_8_label.npy   0\n",
      "synth_spalling_119_label.npy   0\n",
      "synth_spalling_18_label.npy   0\n",
      "synth_spalling_95_label.npy   0\n",
      "synth_spalling_115_label.npy   0\n",
      "synth_spalling_124_label.npy   0\n",
      "synth_crack_14_label.npy   0\n",
      "synth_spalling_74_label.npy   0\n",
      "synth_spalling_25_label.npy   0\n",
      "synth_spalling_13_label.npy   0\n",
      "synth_crack_3_label.npy   0\n",
      "synth_spalling_7_label.npy   0\n",
      "synth_spalling_122_label.npy   0\n",
      "synth_crack_12_label.npy   0\n",
      "synth_spalling_62_label.npy   0\n",
      "synth_spalling_105_label.npy   0\n",
      "synth_spalling_71_label.npy   0\n",
      "synth_spalling_64_label.npy   0\n",
      "synth_spalling_29_label.npy   0\n",
      "synth_crack_67_label.npy   0\n",
      "synth_spalling_87_label.npy   0\n",
      "synth_spalling_126_label.npy   0\n",
      "synth_crack_64_label.npy   0\n",
      "synth_spalling_111_label.npy   0\n",
      "synth_spalling_88_label.npy   0\n",
      "synth_spalling_2_label.npy   0\n",
      "synth_spalling_112_label.npy   0\n",
      "synth_crack_69_label.npy   0\n",
      "synth_dtu_spall_6_label.npy   0\n",
      "synth_dtu_spall_56_label.npy   0\n",
      "synth_dtu_spall_5_label.npy   0\n",
      "synth_dtu_spall_32_label.npy   0\n",
      "synth_dtu_spall_58_label.npy   0\n",
      "synth_dtu_spall_42_label.npy   0\n",
      "synth_dtu_spall_48_label.npy   0\n",
      "synth_dtu_spall_54_label.npy   0\n",
      "synth_dtu_spall_2_label.npy   0\n",
      "synth_dtu_spall_57_label.npy   0\n",
      "synth_dtu_spall_24_label.npy   0\n",
      "synth_dtu_spall_7_label.npy   0\n",
      "synth_dtu_spall_9_label.npy   0\n",
      "synth_dtu_spall_52_label.npy   0\n",
      "synth_dtu_spall_3_label.npy   0\n",
      "synth_dtu_spall_43_label.npy   0\n",
      "synth_dtu_spall_27_label.npy   0\n",
      "synth_dtu_spall_39_label.npy   0\n",
      "synth_dtu_spall_67_label.npy   0\n",
      "synth_dtu_spall_61_label.npy   0\n",
      "synth_dtu_spall_34_label.npy   0\n",
      "synth_dtu_spall_13_label.npy   0\n",
      "synth_dtu_spall_40_label.npy   0\n",
      "synth_dtu_spall_8_label.npy   0\n",
      "synth_dtu_spall_60_label.npy   0\n",
      "synth_dtu_spall_70_label.npy   0\n",
      "synth_dtu_spall_20_label.npy   0\n",
      "synth_dtu_spall_10_label.npy   0\n",
      "synth_dtu_spall_65_label.npy   0\n",
      "synth_dtu_spall_46_label.npy   0\n",
      "synth_dtu_spall_69_label.npy   0\n",
      "synth_dtu_spall_29_label.npy   0\n",
      "synth_dtu_spall_23_label.npy   0\n",
      "synth_dtu_spall_36_label.npy   0\n",
      "synth_dtu_spall_44_label.npy   0\n",
      "synth_dtu_spall_22_label.npy   0\n",
      "synth_dtu_spall_45_label.npy   0\n",
      "synth_dtu_spall_64_label.npy   0\n",
      "synth_dtu_spall_59_label.npy   0\n",
      "synth_dtu_spall_17_label.npy   0\n",
      "synth_dtu_spall_11_label.npy   0\n",
      "synth_dtu_spall_14_label.npy   0\n",
      "synth_dtu_spall_16_label.npy   0\n",
      "synth_dtu_spall_18_label.npy   0\n",
      "synth_dtu_spall_47_label.npy   0\n",
      "synth_dtu_spall_15_label.npy   0\n",
      "synth_dtu_spall_31_label.npy   0\n",
      "synth_dtu_spall_30_label.npy   0\n",
      "synth_dtu_spall_35_label.npy   0\n",
      "synth_dtu_spall_68_label.npy   0\n",
      "synth_dtu_spall_25_label.npy   0\n",
      "synth_dtu_spall_38_label.npy   0\n",
      "synth_dtu_spall_33_label.npy   0\n",
      "synth_dtu_spall_28_label.npy   0\n",
      "synth_dtu_spall_21_label.npy   0\n",
      "synth_dtu_spall_37_label.npy   0\n",
      "synth_dtu_spall_50_label.npy   0\n",
      "synth_dtu_spall_12_label.npy   0\n",
      "synth_dtu_spall_53_label.npy   0\n",
      "synth_dtu_spall_4_label.npy   0\n",
      "synth_dtu_spall_19_label.npy   0\n",
      "synth_dtu_spall_41_label.npy   0\n",
      "synth_dtu_spall_63_label.npy   0\n",
      "synth_dtu_spall_26_label.npy   0\n",
      "synth_dtu_spall_55_label.npy   0\n",
      "synth_dtu_spall_51_label.npy   0\n",
      "synth_dtu_spall_62_label.npy   0\n",
      "synth_dtu_spall_49_label.npy   0\n",
      "dtu_4_crack_32_label.npy   0\n",
      "dtu_4_crack_22_label.npy   0\n",
      "dtu_4_crack_15_label.npy   0\n",
      "dtu_4_crack_27_label.npy   0\n",
      "dtu_4_crack_29_label.npy   0\n",
      "dtu_4_crack_10_label.npy   0\n",
      "dtu_4_spalling_3_label.npy   0\n",
      "dtu_4_crack_14_label.npy   0\n",
      "dtu_4_spalling_2_label.npy   0\n",
      "dtu_4_spalling_5_label.npy   0\n",
      "dtu_4_crack_28_label.npy   0\n",
      "dtu_4_crack_12_label.npy   0\n",
      "dtu_4_spalling_7_label.npy   0\n",
      "dtu_4_crack_33_label.npy   0\n",
      "dtu_4_crack_7_label.npy   0\n",
      "dtu_4_crack_31_label.npy   0\n",
      "dtu_4_crack_17_label.npy   0\n",
      "dtu_4_crack_24_label.npy   0\n",
      "dtu_4_crack_13_label.npy   0\n",
      "dtu_4_crack_2_label.npy   0\n",
      "dtu_4_crack_25_label.npy   0\n",
      "dtu_4_crack_6_label.npy   0\n",
      "dtu_4_crack_30_label.npy   0\n",
      "dtu_4_crack_20_label.npy   0\n",
      "dtu_4_crack_5_label.npy   0\n",
      "dtu_4_crack_21_label.npy   0\n",
      "dtu_4_crack_18_label.npy   0\n",
      "dtu_4_crack_9_label.npy   0\n",
      "dtu_4_crack_16_label.npy   0\n",
      "dtu_4_spalling_1_label.npy   0\n",
      "dtu_4_crack_11_label.npy   0\n",
      "dtu_4_crack_1_label.npy   0\n",
      "dtu_4_spalling_4_label.npy   0\n",
      "dtu_4_crack_26_label.npy   0\n",
      "dtu_4_crack_8_label.npy   0\n",
      "dtu_4_spalling_6_label.npy   0\n",
      "dtu_4_crack_19_label.npy   0\n",
      "dtu_4_crack_4_label.npy   0\n",
      "dtu_3_3_3_label.npy   0\n",
      "dtu_3_3_8_label.npy   0\n",
      "dtu_3_3_2_label.npy   0\n",
      "dtu_3_3_18_label.npy   0\n",
      "dtu_3_3_20_label.npy   0\n",
      "dtu_3_3_15_label.npy   0\n",
      "dtu_3_3_19_label.npy   0\n",
      "dtu_3_3_16_label.npy   0\n",
      "dtu_3_3_17_label.npy   0\n",
      "dtu_3_3_1_label.npy   0\n",
      "dtu_3_3_9_label.npy   0\n",
      "dtu_3_3_22_label.npy   0\n",
      "dtu_3_3_6_label.npy   0\n",
      "dtu_3_3_10_label.npy   0\n",
      "dtu_3_3_13_label.npy   0\n",
      "dtu_3_3_11_label.npy   0\n",
      "dtu_3_3_5_label.npy   0\n",
      "dtu_3_3_21_label.npy   0\n",
      "spalling_19_label.npy   0\n",
      "crack_4_label.npy   0\n",
      "spalling_26_label.npy   0\n",
      "spalling_5_label.npy   0\n",
      "crack_12_label.npy   0\n",
      "spalling_3_label.npy   0\n",
      "crack_2_label.npy   0\n",
      "spalling_27_label.npy   0\n",
      "spalling_29_label.npy   0\n",
      "spalling_28_label.npy   0\n",
      "crack_8_label.npy   0\n",
      "spalling_8_label.npy   0\n",
      "crack_1_label.npy   0\n",
      "crack_7_label.npy   0\n",
      "crack_14_label.npy   0\n",
      "spalling_13_label.npy   0\n",
      "spalling_6_label.npy   0\n",
      "spalling_1_label.npy   0\n",
      "spalling_11_label.npy   0\n",
      "crack_13_label.npy   0\n",
      "spalling_9_label.npy   0\n",
      "spalling_25_label.npy   0\n",
      "spalling_10_label.npy   0\n",
      "spalling_15_label.npy   0\n",
      "spalling_18_label.npy   0\n",
      "crack_3_label.npy   0\n",
      "spalling_7_label.npy   0\n",
      "spalling_16_label.npy   0\n",
      "spalling_21_label.npy   0\n",
      "spalling_22_label.npy   0\n",
      "crack_11_label.npy   0\n",
      "spalling_17_label.npy   0\n",
      "spalling_24_label.npy   0\n",
      "crack_6_label.npy   0\n",
      "crack_10_label.npy   0\n",
      "spalling_20_label.npy   0\n",
      "crack_5_label.npy   0\n",
      "spalling_30_label.npy   0\n",
      "spalling_14_label.npy   0\n",
      "crack_9_label.npy   0\n",
      "spalling_2_label.npy   0\n",
      "spalling_4_label.npy   0\n",
      "spalling_23_label.npy   0\n",
      "0\n",
      "361\n"
     ]
    }
   ],
   "source": [
    "path = \"/media/udayanga/data_2/shon_data/DATA_TO_HOST/ev-CIVIL_dataset/Laboratory_dataset/\"\n",
    "traverse_pathlib(path)"
   ]
  },
  {
   "cell_type": "code",
   "execution_count": 6,
   "metadata": {},
   "outputs": [],
   "source": [
    "ss = qq[qq[:,0].argsort()]"
   ]
  },
  {
   "cell_type": "code",
   "execution_count": 9,
   "metadata": {},
   "outputs": [],
   "source": [
    "np.save(src,ss)"
   ]
  },
  {
   "cell_type": "code",
   "execution_count": 10,
   "metadata": {},
   "outputs": [],
   "source": [
    "dest = \"/media/udayanga/data_2/shon_data/DATA_TO_HOST/ev-CIVIL_dataset/Field_dataset/field_data_day/dset_2/spalling_36/spalling_36_label.npy\""
   ]
  },
  {
   "cell_type": "code",
   "execution_count": 12,
   "metadata": {},
   "outputs": [
    {
     "data": {
      "text/plain": [
       "0"
      ]
     },
     "execution_count": 12,
     "metadata": {},
     "output_type": "execute_result"
    }
   ],
   "source": [
    "np.argmin(np.load(dest)[:,0])"
   ]
  },
  {
   "cell_type": "code",
   "execution_count": 8,
   "metadata": {},
   "outputs": [
    {
     "data": {
      "text/plain": [
       "0"
      ]
     },
     "execution_count": 8,
     "metadata": {},
     "output_type": "execute_result"
    }
   ],
   "source": [
    "np.argmin(ss[:,0])"
   ]
  },
  {
   "cell_type": "code",
   "execution_count": 35,
   "metadata": {},
   "outputs": [],
   "source": [
    "src = \"/media/udayanga/data_2/shon_data/DATA_TO_HOST/DATA\""
   ]
  },
  {
   "cell_type": "code",
   "execution_count": 38,
   "metadata": {},
   "outputs": [
    {
     "name": "stdout",
     "output_type": "stream",
     "text": [
      "0\n"
     ]
    }
   ],
   "source": [
    "traverse_pathlib(src)"
   ]
  },
  {
   "cell_type": "markdown",
   "metadata": {},
   "source": []
  },
  {
   "cell_type": "code",
   "execution_count": 68,
   "metadata": {},
   "outputs": [],
   "source": [
    "import numpy as np\n",
    "sss = np.load(\"/media/udayanga/data_2/Final_Data_set/To_Labelled/tunnel_selected/h5_files/crack/crack_with_filt_1/crack_with_filt_1_new_label.npy\")"
   ]
  },
  {
   "cell_type": "code",
   "execution_count": 42,
   "metadata": {},
   "outputs": [
    {
     "data": {
      "text/plain": [
       "array([21011132., 10811886., 11404782.,  6657749.,  7250266.])"
      ]
     },
     "execution_count": 42,
     "metadata": {},
     "output_type": "execute_result"
    }
   ],
   "source": [
    "sss[:,0]"
   ]
  },
  {
   "cell_type": "code",
   "execution_count": 69,
   "metadata": {},
   "outputs": [],
   "source": [
    "import h5py\n",
    "src_h5 = \"/media/udayanga/data_2/Final_Data_set/To_Labelled/tunnel_selected/h5_files/crack/crack_with_filt_1/crack_with_filt_1_events.h5\"\n",
    "file = h5py.File(src_h5,\"r\")"
   ]
  },
  {
   "cell_type": "code",
   "execution_count": 65,
   "metadata": {},
   "outputs": [
    {
     "name": "stdout",
     "output_type": "stream",
     "text": [
      "event_timestamp\n",
      "polarity\n",
      "x\n",
      "y\n"
     ]
    }
   ],
   "source": [
    "for key in file.keys():\n",
    "    \n",
    "    \n",
    "    print(key)"
   ]
  },
  {
   "cell_type": "code",
   "execution_count": 66,
   "metadata": {},
   "outputs": [],
   "source": [
    "sss_int = sss[:,0].astype(np.int64)"
   ]
  },
  {
   "cell_type": "code",
   "execution_count": null,
   "metadata": {},
   "outputs": [],
   "source": []
  },
  {
   "cell_type": "code",
   "execution_count": 71,
   "metadata": {},
   "outputs": [
    {
     "name": "stdout",
     "output_type": "stream",
     "text": [
      "index  21011132\n",
      "tstamp  553434509\n",
      "index  10811886\n",
      "tstamp  551799927\n",
      "index  11404782\n",
      "tstamp  551896057\n",
      "index  6657749\n",
      "tstamp  551126831\n",
      "index  7250266\n",
      "tstamp  551223022\n"
     ]
    }
   ],
   "source": [
    "count = 0\n",
    "for element in sss_int:\n",
    "    print(\"index \",element)\n",
    "    tstamp = file[\"event_timestamp\"][element]\n",
    "    print(\"tstamp \",tstamp)\n",
    "    sss[count,0] = tstamp\n",
    "    count += 1"
   ]
  },
  {
   "cell_type": "code",
   "execution_count": 57,
   "metadata": {},
   "outputs": [
    {
     "data": {
      "text/plain": [
       "array([[5.53434509e+08, 5.53434509e+08, 5.53434509e+08, 5.53434509e+08,\n",
       "        5.53434509e+08, 5.53434509e+08],\n",
       "       [5.51799927e+08, 5.51799927e+08, 5.51799927e+08, 5.51799927e+08,\n",
       "        5.51799927e+08, 5.51799927e+08],\n",
       "       [5.51896057e+08, 5.51896057e+08, 5.51896057e+08, 5.51896057e+08,\n",
       "        5.51896057e+08, 5.51896057e+08],\n",
       "       [5.51126831e+08, 5.51126831e+08, 5.51126831e+08, 5.51126831e+08,\n",
       "        5.51126831e+08, 5.51126831e+08],\n",
       "       [5.51223022e+08, 5.51223022e+08, 5.51223022e+08, 5.51223022e+08,\n",
       "        5.51223022e+08, 5.51223022e+08]])"
      ]
     },
     "execution_count": 57,
     "metadata": {},
     "output_type": "execute_result"
    }
   ],
   "source": [
    "sss"
   ]
  },
  {
   "cell_type": "code",
   "execution_count": 72,
   "metadata": {},
   "outputs": [],
   "source": [
    "np.save(\"/media/udayanga/data_2/Final_Data_set/To_Labelled/tunnel_selected/h5_files/crack/crack_with_filt_1/crack_with_filt_1_label.npy\",sss)"
   ]
  },
  {
   "cell_type": "code",
   "execution_count": 56,
   "metadata": {},
   "outputs": [
    {
     "data": {
      "text/plain": [
       "array([5.53434509e+08, 5.51799927e+08, 5.51896057e+08, 5.51126831e+08,\n",
       "       5.51223022e+08])"
      ]
     },
     "execution_count": 56,
     "metadata": {},
     "output_type": "execute_result"
    }
   ],
   "source": [
    "sss[:,0]"
   ]
  },
  {
   "cell_type": "code",
   "execution_count": 50,
   "metadata": {},
   "outputs": [
    {
     "ename": "TypeError",
     "evalue": "Indexing elements must be in increasing order",
     "output_type": "error",
     "traceback": [
      "\u001b[0;31m---------------------------------------------------------------------------\u001b[0m",
      "\u001b[0;31mTypeError\u001b[0m                                 Traceback (most recent call last)",
      "Cell \u001b[0;32mIn[50], line 1\u001b[0m\n\u001b[0;32m----> 1\u001b[0m \u001b[43mfile\u001b[49m\u001b[43m[\u001b[49m\u001b[38;5;124;43m\"\u001b[39;49m\u001b[38;5;124;43mevent_timestamp\u001b[39;49m\u001b[38;5;124;43m\"\u001b[39;49m\u001b[43m]\u001b[49m\u001b[43m[\u001b[49m\u001b[43msss\u001b[49m\u001b[43m[\u001b[49m\u001b[43m:\u001b[49m\u001b[43m,\u001b[49m\u001b[38;5;241;43m0\u001b[39;49m\u001b[43m]\u001b[49m\u001b[38;5;241;43m.\u001b[39;49m\u001b[43mastype\u001b[49m\u001b[43m(\u001b[49m\u001b[43mnp\u001b[49m\u001b[38;5;241;43m.\u001b[39;49m\u001b[43mint64\u001b[49m\u001b[43m)\u001b[49m\u001b[43m]\u001b[49m\n",
      "File \u001b[0;32mh5py/_objects.pyx:54\u001b[0m, in \u001b[0;36mh5py._objects.with_phil.wrapper\u001b[0;34m()\u001b[0m\n",
      "File \u001b[0;32mh5py/_objects.pyx:55\u001b[0m, in \u001b[0;36mh5py._objects.with_phil.wrapper\u001b[0;34m()\u001b[0m\n",
      "File \u001b[0;32m/media/udayanga/data_2/miniconda3/envs/udaya/lib/python3.9/site-packages/h5py/_hl/dataset.py:831\u001b[0m, in \u001b[0;36mDataset.__getitem__\u001b[0;34m(self, args, new_dtype)\u001b[0m\n\u001b[1;32m    826\u001b[0m     \u001b[38;5;28;01mreturn\u001b[39;00m arr\n\u001b[1;32m    828\u001b[0m \u001b[38;5;66;03m# === Everything else ===================\u001b[39;00m\n\u001b[1;32m    829\u001b[0m \n\u001b[1;32m    830\u001b[0m \u001b[38;5;66;03m# Perform the dataspace selection.\u001b[39;00m\n\u001b[0;32m--> 831\u001b[0m selection \u001b[38;5;241m=\u001b[39m \u001b[43msel\u001b[49m\u001b[38;5;241;43m.\u001b[39;49m\u001b[43mselect\u001b[49m\u001b[43m(\u001b[49m\u001b[38;5;28;43mself\u001b[39;49m\u001b[38;5;241;43m.\u001b[39;49m\u001b[43mshape\u001b[49m\u001b[43m,\u001b[49m\u001b[43m \u001b[49m\u001b[43margs\u001b[49m\u001b[43m,\u001b[49m\u001b[43m \u001b[49m\u001b[43mdataset\u001b[49m\u001b[38;5;241;43m=\u001b[39;49m\u001b[38;5;28;43mself\u001b[39;49m\u001b[43m)\u001b[49m\n\u001b[1;32m    833\u001b[0m \u001b[38;5;28;01mif\u001b[39;00m selection\u001b[38;5;241m.\u001b[39mnselect \u001b[38;5;241m==\u001b[39m \u001b[38;5;241m0\u001b[39m:\n\u001b[1;32m    834\u001b[0m     \u001b[38;5;28;01mreturn\u001b[39;00m numpy\u001b[38;5;241m.\u001b[39mzeros(selection\u001b[38;5;241m.\u001b[39marray_shape, dtype\u001b[38;5;241m=\u001b[39mnew_dtype)\n",
      "File \u001b[0;32m/media/udayanga/data_2/miniconda3/envs/udaya/lib/python3.9/site-packages/h5py/_hl/selections.py:82\u001b[0m, in \u001b[0;36mselect\u001b[0;34m(shape, args, dataset)\u001b[0m\n\u001b[1;32m     79\u001b[0m     space \u001b[38;5;241m=\u001b[39m h5s\u001b[38;5;241m.\u001b[39mcreate_simple(shape)\n\u001b[1;32m     80\u001b[0m     selector \u001b[38;5;241m=\u001b[39m _selector\u001b[38;5;241m.\u001b[39mSelector(space)\n\u001b[0;32m---> 82\u001b[0m \u001b[38;5;28;01mreturn\u001b[39;00m \u001b[43mselector\u001b[49m\u001b[38;5;241;43m.\u001b[39;49m\u001b[43mmake_selection\u001b[49m\u001b[43m(\u001b[49m\u001b[43margs\u001b[49m\u001b[43m)\u001b[49m\n",
      "File \u001b[0;32mh5py/_selector.pyx:282\u001b[0m, in \u001b[0;36mh5py._selector.Selector.make_selection\u001b[0;34m()\u001b[0m\n",
      "File \u001b[0;32mh5py/_selector.pyx:215\u001b[0m, in \u001b[0;36mh5py._selector.Selector.apply_args\u001b[0;34m()\u001b[0m\n",
      "\u001b[0;31mTypeError\u001b[0m: Indexing elements must be in increasing order"
     ]
    }
   ],
   "source": [
    "file[\"event_timestamp\"][sss[:,0].astype(np.int64)]"
   ]
  },
  {
   "cell_type": "code",
   "execution_count": 1,
   "metadata": {},
   "outputs": [],
   "source": [
    "import os"
   ]
  },
  {
   "cell_type": "code",
   "execution_count": 26,
   "metadata": {},
   "outputs": [],
   "source": [
    "full_new_path_list = []\n",
    "src_file = \"/home/udayanga/Desktop/temp_files/night_outdoor_and_daytime_train_files_event_based_nolab.txt\"\n",
    "with open(src_file) as f:\n",
    "    npz_files = f.readlines()\n",
    "    for file in npz_files:\n",
    "        sub_folder = file.rsplit(\"/\",2)[1]\n",
    "        base_folder = file.split(\"/\",1)[0]\n",
    "        #print(\"base folder and sub folder \",base_folder,\" \",sub_folder)\n",
    "        full_new_path = base_folder + \"/\" + sub_folder\n",
    "        full_new_path_list.append(full_new_path)"
   ]
  },
  {
   "cell_type": "code",
   "execution_count": 27,
   "metadata": {},
   "outputs": [
    {
     "data": {
      "text/plain": [
       "1711"
      ]
     },
     "execution_count": 27,
     "metadata": {},
     "output_type": "execute_result"
    }
   ],
   "source": [
    "len(full_new_path_list)"
   ]
  },
  {
   "cell_type": "code",
   "execution_count": 28,
   "metadata": {},
   "outputs": [],
   "source": [
    "desired_set = set(full_new_path_list)"
   ]
  },
  {
   "cell_type": "code",
   "execution_count": 29,
   "metadata": {},
   "outputs": [
    {
     "data": {
      "text/plain": [
       "133"
      ]
     },
     "execution_count": 29,
     "metadata": {},
     "output_type": "execute_result"
    }
   ],
   "source": [
    "len(desired_set)"
   ]
  },
  {
   "cell_type": "code",
   "execution_count": 30,
   "metadata": {},
   "outputs": [],
   "source": [
    "from pathlib import Path\n",
    "\n",
    "def traverse_directory(path):\n",
    "    count = 0\n",
    "    new_set = []\n",
    "    for item in path.rglob('*'):\n",
    "        if item.is_dir():\n",
    "            #print(item.parent)\n",
    "            desired_name = str(item.parent).rsplit(\"/\",1)[1] + \"/\" + item.name\n",
    "            print(desired_name)\n",
    "            if  desired_name in desired_set:\n",
    "                print(desired_name)\n",
    "                count += 1\n",
    "                new_set.append(desired_name)\n",
    "\n",
    "        elif item.is_file():\n",
    "            continue\n",
    "    print(count)\n",
    "    return new_set"
   ]
  },
  {
   "cell_type": "code",
   "execution_count": 31,
   "metadata": {},
   "outputs": [
    {
     "name": "stdout",
     "output_type": "stream",
     "text": [
      "Field_dataset/day_time_challenge\n",
      "Field_dataset/field_data_day\n",
      "Field_dataset/Night_outdoor\n",
      "Field_dataset/tunnel_selected\n",
      "Field_dataset/other_data\n",
      "day_time_challenge/crack_133\n",
      "day_time_challenge/crack_89\n",
      "day_time_challenge/spalling_57\n",
      "day_time_challenge/crack_88\n",
      "day_time_challenge/spalling_31\n",
      "day_time_challenge/crack_115\n",
      "field_data_day/at_eth\n",
      "field_data_day/dset_2\n",
      "field_data_day/dset_1\n",
      "field_data_day/dset_3\n",
      "field_data_day/dset_5\n",
      "field_data_day/dset_4\n",
      "field_data_day/dset_6\n",
      "at_eth/synth_spalling_121\n",
      "at_eth/synth_spalling_57\n",
      "at_eth/synth_spalling_19\n",
      "at_eth/synth_spalling_85\n",
      "dset_2/crack_72\n",
      "dset_2/spalling_45\n",
      "dset_2/crack_102\n",
      "dset_2/crack_102\n",
      "dset_2/crack_109\n",
      "dset_2/crack_109\n",
      "dset_2/crack_82\n",
      "dset_2/crack_82\n",
      "dset_2/crack_93\n",
      "dset_2/crack_93\n",
      "dset_2/crack_100\n",
      "dset_2/spalling_42\n",
      "dset_2/spalling_27\n",
      "dset_2/spalling_27\n",
      "dset_2/spalling_28\n",
      "dset_2/crack_70\n",
      "dset_2/crack_70\n",
      "dset_2/spalling_51\n",
      "dset_2/spalling_51\n",
      "dset_2/crack_79\n",
      "dset_2/crack_79\n",
      "dset_2/crack_60\n",
      "dset_2/spalling_33\n",
      "dset_2/spalling_41\n",
      "dset_2/crack_83\n",
      "dset_2/spalling_36\n",
      "dset_2/crack_87\n",
      "dset_2/crack_66\n",
      "dset_2/crack_66\n",
      "dset_2/crack_81\n",
      "dset_2/crack_81\n",
      "dset_2/crack_62\n",
      "dset_2/crack_62\n",
      "dset_2/spalling_25\n",
      "dset_2/spalling_52\n",
      "dset_2/spalling_52\n",
      "dset_2/spalling_39\n",
      "dset_2/spalling_34\n",
      "dset_2/crack_113\n",
      "dset_2/crack_113\n",
      "dset_2/crack_64\n",
      "dset_2/crack_74\n",
      "dset_2/crack_74\n",
      "dset_2/crack_96\n",
      "dset_2/spalling_40\n",
      "dset_2/crack_76\n",
      "dset_2/crack_76\n",
      "dset_2/spalling_21\n",
      "dset_2/spalling_46\n",
      "dset_2/crack_71\n",
      "dset_2/crack_101\n",
      "dset_2/crack_101\n",
      "dset_2/crack_73\n",
      "dset_2/crack_73\n",
      "dset_2/spalling_44\n",
      "dset_2/crack_75\n",
      "dset_2/crack_75\n",
      "dset_2/crack_80\n",
      "dset_2/crack_63\n",
      "dset_2/spalling_22\n",
      "dset_2/spalling_22\n",
      "dset_2/spalling_35\n",
      "dset_2/crack_68\n",
      "dset_2/crack_68\n",
      "dset_2/crack_117\n",
      "dset_2/crack_117\n",
      "dset_2/crack_112\n",
      "dset_2/spalling_24\n",
      "dset_2/spalling_48\n",
      "dset_2/crack_78\n",
      "dset_2/crack_78\n",
      "dset_2/crack_111\n",
      "dset_2/spalling_43\n",
      "dset_2/crack_110\n",
      "dset_2/crack_110\n",
      "dset_2/crack_69\n",
      "dset_2/crack_69\n",
      "dset_2/crack_92\n",
      "dset_2/crack_92\n",
      "dset_2/spalling_30\n",
      "dset_2/crack_67\n",
      "dset_2/crack_67\n",
      "dset_2/crack_61\n",
      "dset_2/spalling_32\n",
      "dset_2/spalling_32\n",
      "dset_2/crack_77\n",
      "dset_2/crack_91\n",
      "dset_2/crack_91\n",
      "dset_2/crack_114\n",
      "dset_2/spalling_38\n",
      "dset_2/crack_107\n",
      "dset_2/crack_107\n",
      "dset_2/spalling_23\n",
      "dset_1/crack_4\n",
      "dset_1/crack_4\n",
      "dset_1/crack_41\n",
      "dset_1/crack_20\n",
      "dset_1/crack_51\n",
      "dset_1/crack_51\n",
      "dset_1/crack_18\n",
      "dset_1/crack_18\n",
      "dset_1/spalling_5\n",
      "dset_1/crack_12\n",
      "dset_1/crack_27\n",
      "dset_1/crack_27\n",
      "dset_1/crack_43\n",
      "dset_1/spalling_3\n",
      "dset_1/crack_17\n",
      "dset_1/crack_2\n",
      "dset_1/crack_8\n",
      "dset_1/crack_37\n",
      "dset_1/crack_37\n",
      "dset_1/crack_54\n",
      "dset_1/crack_54\n",
      "dset_1/spalling_8\n",
      "dset_1/crack_1\n",
      "dset_1/crack_52\n",
      "dset_1/crack_52\n",
      "dset_1/crack_40\n",
      "dset_1/crack_14\n",
      "dset_1/spalling_13\n",
      "dset_1/spalling_6\n",
      "dset_1/spalling_11\n",
      "dset_1/crack_13\n",
      "dset_1/spalling_9\n",
      "dset_1/crack_34\n",
      "dset_1/crack_34\n",
      "dset_1/crack_3\n",
      "dset_1/crack_38\n",
      "dset_1/spalling_7\n",
      "dset_1/spalling_16\n",
      "dset_1/crack_21\n",
      "dset_1/crack_49\n",
      "dset_1/crack_46\n",
      "dset_1/crack_24\n",
      "dset_1/crack_24\n",
      "dset_1/crack_53\n",
      "dset_1/crack_30\n",
      "dset_1/crack_28\n",
      "dset_1/crack_28\n",
      "dset_1/crack_35\n",
      "dset_1/crack_35\n",
      "dset_1/crack_45\n",
      "dset_1/crack_11\n",
      "dset_1/crack_11\n",
      "dset_1/crack_23\n",
      "dset_1/crack_23\n",
      "dset_1/crack_6\n",
      "dset_1/crack_10\n",
      "dset_1/crack_22\n",
      "dset_1/crack_50\n",
      "dset_1/crack_19\n",
      "dset_1/crack_5\n",
      "dset_1/spalling_12\n",
      "dset_1/spalling_14\n",
      "dset_1/spalling_14\n",
      "dset_1/crack_44\n",
      "dset_1/crack_44\n",
      "dset_1/crack_9\n",
      "dset_1/spalling_4\n",
      "dset_1/crack_47\n",
      "dset_1/crack_31\n",
      "dset_1/crack_31\n",
      "dset_1/crack_32\n",
      "dset_1/crack_32\n",
      "dset_1/crack_42\n",
      "dset_1/crack_15\n",
      "dset_1/crack_26\n",
      "dset_1/crack_29\n",
      "dset_1/crack_29\n",
      "dset_3/crack_129\n",
      "dset_3/crack_129\n",
      "dset_3/crack_130\n",
      "dset_3/crack_130\n",
      "dset_3/spalling_54\n",
      "dset_3/spalling_54\n",
      "dset_3/crack_120\n",
      "dset_3/crack_122\n",
      "dset_3/spalling_55\n",
      "dset_3/spalling_55\n",
      "dset_3/crack_132\n",
      "dset_3/crack_121\n",
      "dset_3/crack_128\n",
      "dset_3/crack_128\n",
      "dset_3/crack_119\n",
      "dset_3/crack_126\n",
      "dset_3/crack_134\n",
      "dset_3/crack_134\n",
      "dset_3/crack_118\n",
      "dset_3/crack_118\n",
      "dset_3/crack_127\n",
      "dset_3/crack_127\n",
      "dset_3/spalling_56\n",
      "dset_3/spalling_56\n",
      "dset_3/crack_123\n",
      "dset_3/crack_123\n",
      "dset_3/crack_125\n",
      "dset_3/crack_125\n",
      "dset_5/crack_224\n",
      "dset_5/crack_224\n",
      "dset_5/crack_196\n",
      "dset_5/crack_213\n",
      "dset_5/crack_213\n",
      "dset_5/spalling_70\n",
      "dset_5/crack_219\n",
      "dset_5/crack_219\n",
      "dset_5/spalling_71\n",
      "dset_5/crack_225\n",
      "dset_5/crack_225\n",
      "dset_5/crack_228\n",
      "dset_5/crack_222\n",
      "dset_5/crack_222\n",
      "dset_5/crack_220\n",
      "dset_5/crack_220\n",
      "dset_5/crack_221\n",
      "dset_5/crack_221\n",
      "dset_5/crack_198\n",
      "dset_5/crack_223\n",
      "dset_5/crack_223\n",
      "dset_5/crack_197\n",
      "dset_5/crack_202\n",
      "dset_5/crack_202\n",
      "dset_5/crack_215\n",
      "dset_5/crack_200\n",
      "dset_5/crack_200\n",
      "dset_5/crack_218\n",
      "dset_5/crack_218\n",
      "dset_5/crack_217\n",
      "dset_5/crack_201\n",
      "dset_5/crack_201\n",
      "dset_5/crack_203\n",
      "dset_5/crack_203\n",
      "dset_5/crack_212\n",
      "dset_5/crack_212\n",
      "dset_5/crack_216\n",
      "dset_5/crack_216\n",
      "dset_4/crack_165\n",
      "dset_4/crack_165\n",
      "dset_4/crack_183\n",
      "dset_4/crack_183\n",
      "dset_4/crack_184\n",
      "dset_4/crack_184\n",
      "dset_4/crack_170\n",
      "dset_4/crack_166\n",
      "dset_4/crack_166\n",
      "dset_4/crack_174\n",
      "dset_4/crack_162\n",
      "dset_4/crack_162\n",
      "dset_4/crack_182\n",
      "dset_4/crack_182\n",
      "dset_4/spalling_70\n",
      "dset_4/crack_176\n",
      "dset_4/crack_144\n",
      "dset_4/crack_144\n",
      "dset_4/spalling_71\n",
      "dset_4/crack_163\n",
      "dset_4/crack_163\n",
      "dset_4/crack_164\n",
      "dset_4/crack_164\n",
      "dset_4/crack_178\n",
      "dset_4/crack_161\n",
      "dset_4/crack_161\n",
      "dset_4/crack_141\n",
      "dset_4/crack_141\n",
      "dset_4/spalling_72\n",
      "dset_4/crack_160\n",
      "dset_4/crack_160\n",
      "dset_4/crack_145\n",
      "dset_4/crack_145\n",
      "dset_4/crack_177\n",
      "dset_4/crack_177\n",
      "dset_4/crack_157\n",
      "dset_4/crack_157\n",
      "dset_4/crack_173\n",
      "dset_4/crack_151\n",
      "dset_4/crack_147\n",
      "dset_4/crack_147\n",
      "dset_4/crack_140\n",
      "dset_4/crack_140\n",
      "dset_4/crack_168\n",
      "dset_4/crack_168\n",
      "dset_4/crack_149\n",
      "dset_4/crack_149\n",
      "dset_4/crack_167\n",
      "dset_4/crack_143\n",
      "dset_4/crack_143\n",
      "dset_4/crack_169\n",
      "dset_4/crack_172\n",
      "dset_4/crack_172\n",
      "dset_4/crack_158\n",
      "dset_4/crack_158\n",
      "dset_4/crack_152\n",
      "dset_4/crack_156\n",
      "dset_4/crack_179\n",
      "dset_4/crack_179\n",
      "dset_4/crack_159\n",
      "dset_4/crack_159\n",
      "dset_4/crack_148\n",
      "dset_4/crack_148\n",
      "dset_4/crack_181\n",
      "dset_4/crack_142\n",
      "dset_4/crack_150\n",
      "dset_4/crack_150\n",
      "dset_4/crack_175\n",
      "dset_4/crack_175\n",
      "dset_4/crack_171\n",
      "dset_4/crack_171\n",
      "dset_4/crack_146\n",
      "dset_6/crack_129\n",
      "dset_6/crack_129\n",
      "dset_6/crack_130\n",
      "dset_6/crack_130\n",
      "dset_6/spalling_75\n",
      "dset_6/crack\n",
      "dset_6/spalling_77\n",
      "dset_6/spalling_76\n",
      "crack/h5_files\n",
      "Night_outdoor/night_spalling\n",
      "Night_outdoor/night_outdoor_jan_2\n",
      "Night_outdoor/night_outdoor_18th_Nov\n",
      "Night_outdoor/night_outdoor_27th_dec\n",
      "Night_outdoor/night_outdoor_31st_dec\n",
      "night_spalling/13_march_outdoor_7\n",
      "night_spalling/13_march_outdoor_7\n",
      "night_spalling/13_march_outdoor_31\n",
      "night_spalling/13_march_outdoor_8\n",
      "night_spalling/13_march_outdoor_8\n",
      "night_spalling/13_march_outdoor_28\n",
      "night_spalling/13_march_outdoor_29\n",
      "night_spalling/13_march_outdoor_29\n",
      "night_spalling/13_march_outdoor_4\n",
      "night_spalling/13_march_outdoor_27\n",
      "night_spalling/13_march_outdoor_3\n",
      "night_spalling/13_march_outdoor_2\n",
      "night_spalling/13_march_outdoor_0\n",
      "night_spalling/13_march_outdoor_6\n",
      "night_spalling/13_march_outdoor_6\n",
      "night_spalling/13_march_outdoor_5\n",
      "night_spalling/13_march_outdoor_5\n",
      "night_spalling/13_march_outdoor_1\n",
      "night_outdoor_jan_2/2_jan_crack_43\n",
      "night_outdoor_jan_2/2_jan_crack_44\n",
      "night_outdoor_jan_2/2_jan_crack_32\n",
      "night_outdoor_18th_Nov/ros_crack_22\n",
      "night_outdoor_18th_Nov/ros_crack_22\n",
      "night_outdoor_18th_Nov/ros_crack_10\n",
      "night_outdoor_18th_Nov/ros_crack_5\n",
      "night_outdoor_18th_Nov/ros_crack_14\n",
      "night_outdoor_18th_Nov/ros_crack_21\n",
      "night_outdoor_18th_Nov/ros_crack_1\n",
      "night_outdoor_18th_Nov/ros_crack_1\n",
      "night_outdoor_18th_Nov/ros_crack_27\n",
      "night_outdoor_18th_Nov/ros_crack_27\n",
      "night_outdoor_18th_Nov/ros_crack_12\n",
      "night_outdoor_18th_Nov/ros_crack_37\n",
      "night_outdoor_18th_Nov/ros_crack_2\n",
      "night_outdoor_18th_Nov/ros_crack_9\n",
      "night_outdoor_18th_Nov/ros_crack_8\n",
      "night_outdoor_18th_Nov/ros_crack_8\n",
      "night_outdoor_18th_Nov/ros_crack_29\n",
      "night_outdoor_18th_Nov/ros_crack_38\n",
      "night_outdoor_18th_Nov/ros_crack_15\n",
      "night_outdoor_18th_Nov/ros_crack_36\n",
      "night_outdoor_18th_Nov/ros_crack_36\n",
      "night_outdoor_18th_Nov/ros_crack_26\n",
      "night_outdoor_27th_dec/dec_25_10\n",
      "night_outdoor_27th_dec/dec_25_18\n",
      "night_outdoor_27th_dec/dec_25_23\n",
      "night_outdoor_27th_dec/27_crack_13\n",
      "night_outdoor_27th_dec/27_crack_13\n",
      "night_outdoor_27th_dec/27_crack_15\n",
      "night_outdoor_27th_dec/dec_25_12\n",
      "night_outdoor_27th_dec/dec_25_8\n",
      "night_outdoor_27th_dec/dec_25_8\n",
      "night_outdoor_27th_dec/27_crack_6\n",
      "night_outdoor_27th_dec/27_crack_6\n",
      "night_outdoor_27th_dec/dec_25_4\n",
      "night_outdoor_27th_dec/dec_25_4\n",
      "night_outdoor_27th_dec/27_crack_9\n",
      "night_outdoor_27th_dec/dec_25_15\n",
      "night_outdoor_27th_dec/dec_25_21\n",
      "night_outdoor_27th_dec/27_crack_12\n",
      "night_outdoor_27th_dec/27_crack_8\n",
      "night_outdoor_27th_dec/27_crack_7\n",
      "night_outdoor_27th_dec/dec_25_9\n",
      "night_outdoor_27th_dec/dec_25_9\n",
      "night_outdoor_27th_dec/27_crack_1\n",
      "night_outdoor_27th_dec/dec_25_5\n",
      "night_outdoor_27th_dec/27_crack_5\n",
      "night_outdoor_27th_dec/27_crack_4\n",
      "night_outdoor_27th_dec/27_crack_4\n",
      "night_outdoor_27th_dec/27_crack_2\n",
      "night_outdoor_31st_dec/31_crack_27\n",
      "night_outdoor_31st_dec/31_crack_20\n",
      "night_outdoor_31st_dec/31_crack_7\n",
      "night_outdoor_31st_dec/31_crack_45\n",
      "night_outdoor_31st_dec/31_crack_24\n",
      "night_outdoor_31st_dec/31_crack_24\n",
      "night_outdoor_31st_dec/31_crack_32\n",
      "night_outdoor_31st_dec/31_crack_32\n",
      "night_outdoor_31st_dec/31_crack_41\n",
      "night_outdoor_31st_dec/31_crack_6\n",
      "night_outdoor_31st_dec/31_crack_4\n",
      "night_outdoor_31st_dec/31_crack_16\n",
      "night_outdoor_31st_dec/31_crack_46\n",
      "night_outdoor_31st_dec/31_crack_43\n",
      "night_outdoor_31st_dec/31_crack_49\n",
      "night_outdoor_31st_dec/31_crack_49\n",
      "night_outdoor_31st_dec/31_crack_34\n",
      "night_outdoor_31st_dec/31_crack_50\n",
      "night_outdoor_31st_dec/31_crack_18\n",
      "night_outdoor_31st_dec/31_crack_18\n",
      "night_outdoor_31st_dec/31_crack_35\n",
      "night_outdoor_31st_dec/31_crack_42\n",
      "night_outdoor_31st_dec/31_crack_30\n",
      "night_outdoor_31st_dec/31_crack_52\n",
      "night_outdoor_31st_dec/31_crack_52\n",
      "night_outdoor_31st_dec/31_crack_17\n",
      "night_outdoor_31st_dec/31_crack_13\n",
      "night_outdoor_31st_dec/31_crack_13\n",
      "night_outdoor_31st_dec/31_crack_37\n",
      "night_outdoor_31st_dec/31_crack_48\n",
      "night_outdoor_31st_dec/31_crack_48\n",
      "night_outdoor_31st_dec/31_crack_15\n",
      "night_outdoor_31st_dec/31_crack_15\n",
      "night_outdoor_31st_dec/31_crack_51\n",
      "night_outdoor_31st_dec/31_crack_21\n",
      "night_outdoor_31st_dec/31_crack_40\n",
      "tunnel_selected/crack_with_filt_1\n",
      "tunnel_selected/t_spall_10\n",
      "tunnel_selected/t_spall_13\n",
      "tunnel_selected/t_spall_9\n",
      "tunnel_selected/t_spall_7\n",
      "tunnel_selected/t_crack_3\n",
      "tunnel_selected/t_spall_1\n",
      "tunnel_selected/t_spall_5\n",
      "other_data/crack_116\n",
      "other_data/crack_116\n",
      "other_data/spalling_57\n",
      "other_data/spalling_57\n",
      "other_data/crack_39\n",
      "other_data/crack_39\n",
      "other_data/crack_124\n",
      "other_data/crack_124\n",
      "other_data/crack_106\n",
      "other_data/crack_106\n",
      "other_data/spalling_31\n",
      "other_data/spalling_31\n",
      "133\n"
     ]
    }
   ],
   "source": [
    "path = Path(\"/media/udayanga/data_2/shon_data/DATA_TO_HOST/ev-CIVIL_dataset/Field_dataset\")\n",
    "new_set = traverse_directory(path)"
   ]
  },
  {
   "cell_type": "code",
   "execution_count": 32,
   "metadata": {},
   "outputs": [],
   "source": [
    "for file in desired_set:\n",
    "    if file not in new_set:\n",
    "        print(file)"
   ]
  },
  {
   "cell_type": "code",
   "execution_count": 33,
   "metadata": {},
   "outputs": [
    {
     "data": {
      "text/plain": [
       "133"
      ]
     },
     "execution_count": 33,
     "metadata": {},
     "output_type": "execute_result"
    }
   ],
   "source": [
    "len(new_set)"
   ]
  },
  {
   "cell_type": "code",
   "execution_count": 34,
   "metadata": {},
   "outputs": [],
   "source": [
    "to_write_list = []\n",
    "prefix = \"Field_dataset\"\n",
    "for file in new_set:\n",
    "    to_write_list.append(prefix + \"/\" + file)\n",
    "\n"
   ]
  },
  {
   "cell_type": "code",
   "execution_count": 35,
   "metadata": {},
   "outputs": [
    {
     "data": {
      "text/plain": [
       "133"
      ]
     },
     "execution_count": 35,
     "metadata": {},
     "output_type": "execute_result"
    }
   ],
   "source": [
    "len(to_write_list)"
   ]
  },
  {
   "cell_type": "code",
   "execution_count": 36,
   "metadata": {},
   "outputs": [],
   "source": [
    "to_write_file = \"/media/udayanga/data_2/shon_data/DATA/train_samples_from_field\"\n",
    "with open(to_write_file,\"w\") as f:\n",
    "    for element in to_write_list:\n",
    "        f.writelines(element + \"\\n\")"
   ]
  },
  {
   "cell_type": "code",
   "execution_count": 23,
   "metadata": {},
   "outputs": [],
   "source": [
    "tunnel_files = os.listdir(\"/media/udayanga/data_2/shon_data/DATA_TO_HOST/ev-CIVIL_dataset/Field_dataset/tunnel_selected\")"
   ]
  },
  {
   "cell_type": "code",
   "execution_count": 24,
   "metadata": {},
   "outputs": [
    {
     "name": "stdout",
     "output_type": "stream",
     "text": [
      "['crack_with_filt_1', 't_spall_10', 't_spall_13', 't_spall_9', 't_spall_7', 't_crack_3', 't_spall_1', 't_spall_5']\n"
     ]
    }
   ],
   "source": [
    "print(tunnel_files)"
   ]
  },
  {
   "cell_type": "code",
   "execution_count": 25,
   "metadata": {},
   "outputs": [],
   "source": [
    "with open(to_write_file,\"a\") as f:\n",
    "    for file in tunnel_files:\n",
    "        f.writelines(\"tunnel_selected/\" + file + \"\\n\")"
   ]
  },
  {
   "cell_type": "code",
   "execution_count": 3,
   "metadata": {},
   "outputs": [],
   "source": [
    "import numpy as np\n",
    "kk = np.load(\"/media/udayanga/data_2/shon_data/DATA_TO_HOST/ev-CIVIL_dataset/Field_dataset/field_data_day/dset_2/spalling_36/spalling_36_label.npy\")"
   ]
  },
  {
   "cell_type": "code",
   "execution_count": 6,
   "metadata": {},
   "outputs": [],
   "source": [
    "base_path = \"/media/udayanga/data_2/shon_data/DATA_TO_HOST/ev-CIVIL_dataset/Field_dataset/field_data_day\""
   ]
  },
  {
   "cell_type": "code",
   "execution_count": 7,
   "metadata": {},
   "outputs": [],
   "source": [
    "ee = np.load(base_path + \"/dset_2/crack_76/crack_76_label.npy\")"
   ]
  },
  {
   "cell_type": "code",
   "execution_count": 8,
   "metadata": {},
   "outputs": [
    {
     "data": {
      "text/plain": [
       "array([[ 7.79291600e+06,  0.00000000e+00,  9.66462094e+01,\n",
       "         5.32907052e-15,  6.28158845e+01,  1.99223827e+02],\n",
       "       [ 6.36615700e+06,  0.00000000e+00,  1.02241877e+02,\n",
       "         5.32907052e-15,  9.33212996e+01,  2.58249097e+02],\n",
       "       [ 7.81793400e+06,  0.00000000e+00,  9.08700361e+01,\n",
       "         1.80505415e-01,  6.28158845e+01,  1.99223827e+02],\n",
       "       [ 7.91806400e+06,  0.00000000e+00,  7.64296029e+01,\n",
       "         5.32907052e-15,  6.28158845e+01,  1.99223827e+02],\n",
       "       [ 7.89302800e+06,  0.00000000e+00,  8.22057762e+01,\n",
       "         1.80505415e-01,  6.28158845e+01,  1.99223827e+02],\n",
       "       [ 8.14333600e+06,  0.00000000e+00,  4.22743682e+00,\n",
       "        -8.88178420e-15,  9.63898917e+01,  2.28646209e+02],\n",
       "       [ 5.74039200e+06,  0.00000000e+00,  1.95382671e+02,\n",
       "         5.32907052e-15,  6.96750903e+01,  2.58967615e+02],\n",
       "       [ 5.79045800e+06,  0.00000000e+00,  2.05129964e+02,\n",
       "         5.32907052e-15,  6.96750903e+01,  2.58967615e+02],\n",
       "       [ 6.94186100e+06,  0.00000000e+00,  1.63212996e+01,\n",
       "         5.32907052e-15,  9.07942238e+01,  2.59000000e+02],\n",
       "       [ 8.04321300e+06,  0.00000000e+00,  5.07978339e+01,\n",
       "         5.41516245e-01,  7.16606498e+01,  2.13303249e+02],\n",
       "       [ 6.86677300e+06,  0.00000000e+00,  1.18086643e+01,\n",
       "         5.32907052e-15,  1.03429603e+02,  2.58429603e+02],\n",
       "       [ 5.13966000e+06,  0.00000000e+00,  1.08740072e+02,\n",
       "         1.20938628e+00,  7.06324768e+01,  2.55996496e+02],\n",
       "       [ 7.61768800e+06,  0.00000000e+00,  1.14696751e+02,\n",
       "         1.80505415e-01,  7.31046931e+01,  2.23953069e+02],\n",
       "       [ 5.54015300e+06,  0.00000000e+00,  1.71736462e+02,\n",
       "         9.34911871e-01,  6.96750903e+01,  2.58967615e+02],\n",
       "       [ 7.96812000e+06,  0.00000000e+00,  6.84873646e+01,\n",
       "         3.61010830e-01,  6.42599278e+01,  2.05541516e+02],\n",
       "       [ 7.24222700e+06,  0.00000000e+00,  5.36372549e+01,\n",
       "         1.32352941e+00,  8.65196078e+01,  2.57598039e+02],\n",
       "       [ 6.79167500e+06,  0.00000000e+00,  1.90288809e+01,\n",
       "         1.80505415e-01,  1.03429603e+02,  2.58429603e+02],\n",
       "       [ 6.21596800e+06,  0.00000000e+00,  1.57657040e+02,\n",
       "         5.32907052e-15,  8.05054152e+01,  2.59000000e+02],\n",
       "       [ 5.81549000e+06,  0.00000000e+00,  2.06032491e+02,\n",
       "         5.32907052e-15,  6.96750903e+01,  2.58967615e+02],\n",
       "       [ 7.49253800e+06,  0.00000000e+00,  1.14696751e+02,\n",
       "         1.80505415e-01,  7.65342960e+01,  2.39115523e+02],\n",
       "       [ 6.74161900e+06,  0.00000000e+00,  1.90288809e+01,\n",
       "         1.80505415e-01,  1.03429603e+02,  2.58429603e+02],\n",
       "       [ 6.99192300e+06,  0.00000000e+00,  1.50577617e+01,\n",
       "         5.32907052e-15,  9.07942238e+01,  2.59000000e+02],\n",
       "       [ 7.51757700e+06,  0.00000000e+00,  1.14696751e+02,\n",
       "         1.80505415e-01,  7.65342960e+01,  2.39115523e+02],\n",
       "       [ 6.16590600e+06,  0.00000000e+00,  1.75166065e+02,\n",
       "         5.32907052e-15,  6.91335740e+01,  2.59000000e+02],\n",
       "       [ 5.23978600e+06,  0.00000000e+00,  1.17945848e+02,\n",
       "         1.20938628e+00,  7.06324768e+01,  2.55996496e+02],\n",
       "       [ 6.69155600e+06,  0.00000000e+00,  2.37220217e+01,\n",
       "         5.32907052e-15,  1.03429603e+02,  2.58429603e+02],\n",
       "       [ 7.06702000e+06,  0.00000000e+00,  1.50577617e+01,\n",
       "         5.32907052e-15,  9.07942238e+01,  2.59000000e+02],\n",
       "       [ 5.01450000e+06,  0.00000000e+00,  1.09274510e+02,\n",
       "         1.81372549e+00,  7.00980392e+01,  2.55392157e+02],\n",
       "       [ 7.71781900e+06,  0.00000000e+00,  1.00797834e+02,\n",
       "         5.32907052e-15,  6.75090253e+01,  2.13122744e+02],\n",
       "       [ 5.49008300e+06,  0.00000000e+00,  1.58559567e+02,\n",
       "         3.93395625e-01,  6.96750903e+01,  2.58967615e+02],\n",
       "       [ 7.01695700e+06,  0.00000000e+00,  1.50577617e+01,\n",
       "         5.32907052e-15,  9.07942238e+01,  2.59000000e+02],\n",
       "       [ 5.44002600e+06,  0.00000000e+00,  1.49353791e+02,\n",
       "         3.23847951e-02,  6.96750903e+01,  2.58967615e+02],\n",
       "       [ 5.33989800e+06,  0.00000000e+00,  1.30942238e+02,\n",
       "         8.48375451e-01,  7.06324768e+01,  2.55996496e+02],\n",
       "       [ 8.29352100e+06,  0.00000000e+00,  0.00000000e+00,\n",
       "         5.19314079e+01,  9.53826715e+01,  2.02888087e+02],\n",
       "       [ 7.19216800e+06,  0.00000000e+00,  3.92454874e+01,\n",
       "         8.19494585e-01,  9.07942238e+01,  2.59000000e+02],\n",
       "       [ 8.01818300e+06,  0.00000000e+00,  5.51299639e+01,\n",
       "         1.95399252e-14,  7.16606498e+01,  2.13303249e+02],\n",
       "       [ 5.59021200e+06,  0.00000000e+00,  1.77873646e+02,\n",
       "         5.32907052e-15,  6.96750903e+01,  2.58967615e+02],\n",
       "       [ 6.64149500e+06,  0.00000000e+00,  3.43718412e+01,\n",
       "         5.32907052e-15,  1.03429603e+02,  2.58429603e+02],\n",
       "       [ 5.38995400e+06,  0.00000000e+00,  1.41231047e+02,\n",
       "         4.00350393e+00,  7.06324768e+01,  2.55996496e+02],\n",
       "       [ 6.54137900e+06,  0.00000000e+00,  5.41274510e+01,\n",
       "         1.63322008e+00,  1.04973632e+02,  2.57366780e+02],\n",
       "       [ 4.96443500e+06,  0.00000000e+00,  1.09274510e+02,\n",
       "         1.81372549e+00,  7.00980392e+01,  2.55392157e+02],\n",
       "       [ 5.64026800e+06,  0.00000000e+00,  1.89787004e+02,\n",
       "         5.32907052e-15,  6.96750903e+01,  2.58967615e+02],\n",
       "       [ 7.74284400e+06,  0.00000000e+00,  9.66462094e+01,\n",
       "         5.32907052e-15,  6.75090253e+01,  2.13122744e+02],\n",
       "       [ 7.44248000e+06,  0.00000000e+00,  9.75487365e+01,\n",
       "         5.32907052e-15,  8.64620939e+01,  2.50306859e+02],\n",
       "       [ 7.76787900e+06,  0.00000000e+00,  9.66462094e+01,\n",
       "         5.32907052e-15,  6.75090253e+01,  2.13122744e+02],\n",
       "       [ 6.81670700e+06,  0.00000000e+00,  1.57797834e+01,\n",
       "         1.80505415e-01,  1.03429603e+02,  2.58429603e+02],\n",
       "       [ 8.11830200e+06,  0.00000000e+00,  1.34332130e+01,\n",
       "        -8.88178420e-15,  9.63898917e+01,  2.28646209e+02],\n",
       "       [ 5.11463000e+06,  0.00000000e+00,  1.08740072e+02,\n",
       "         1.20938628e+00,  7.06324768e+01,  2.55996496e+02],\n",
       "       [ 6.44125200e+06,  0.00000000e+00,  8.20252708e+01,\n",
       "         5.32907052e-15,  9.54873646e+01,  2.57888087e+02],\n",
       "       [ 7.39241700e+06,  0.00000000e+00,  9.57436823e+01,\n",
       "         5.32907052e-15,  9.07942238e+01,  2.59000000e+02],\n",
       "       [ 5.08960100e+06,  0.00000000e+00,  1.08740072e+02,\n",
       "         1.20938628e+00,  7.06324768e+01,  2.55996496e+02],\n",
       "       [ 6.71658100e+06,  0.00000000e+00,  1.90288809e+01,\n",
       "         1.80505415e-01,  1.03429603e+02,  2.58429603e+02],\n",
       "       [ 6.24100600e+06,  0.00000000e+00,  1.42855596e+02,\n",
       "         5.32907052e-15,  8.05054152e+01,  2.59000000e+02],\n",
       "       [ 7.21720800e+06,  0.00000000e+00,  4.44801444e+01,\n",
       "         5.32907052e-15,  9.07942238e+01,  2.59000000e+02],\n",
       "       [ 8.31855000e+06,  0.00000000e+00,  0.00000000e+00,\n",
       "         5.71119134e+01,  9.53826715e+01,  2.02888087e+02],\n",
       "       [ 7.99315100e+06,  0.00000000e+00,  6.39747292e+01,\n",
       "         7.22021661e-01,  6.42599278e+01,  2.05541516e+02],\n",
       "       [ 7.04198600e+06,  0.00000000e+00,  1.50577617e+01,\n",
       "         5.32907052e-15,  9.07942238e+01,  2.59000000e+02],\n",
       "       [ 7.64273000e+06,  0.00000000e+00,  1.14696751e+02,\n",
       "         1.80505415e-01,  7.31046931e+01,  2.23953069e+02],\n",
       "       [ 6.41622100e+06,  0.00000000e+00,  9.05090253e+01,\n",
       "         5.32907052e-15,  9.33212996e+01,  2.58249097e+02],\n",
       "       [ 5.99070000e+06,  0.00000000e+00,  2.01158845e+02,\n",
       "         5.32907052e-15,  6.96750903e+01,  2.58967615e+02],\n",
       "       [ 5.51511500e+06,  0.00000000e+00,  1.64877256e+02,\n",
       "         9.34911871e-01,  6.96750903e+01,  2.58967615e+02],\n",
       "       [ 7.36739200e+06,  0.00000000e+00,  8.72599278e+01,\n",
       "         5.32907052e-15,  9.07942238e+01,  2.59000000e+02],\n",
       "       [ 6.76664300e+06,  0.00000000e+00,  1.90288809e+01,\n",
       "         1.80505415e-01,  1.03429603e+02,  2.58429603e+02],\n",
       "       [ 6.11584800e+06,  0.00000000e+00,  1.76610108e+02,\n",
       "         5.32907052e-15,  6.91335740e+01,  2.59000000e+02],\n",
       "       [ 7.31732200e+06,  0.00000000e+00,  7.06534296e+01,\n",
       "         5.32907052e-15,  9.07942238e+01,  2.59000000e+02],\n",
       "       [ 6.96689200e+06,  0.00000000e+00,  1.63212996e+01,\n",
       "         5.32907052e-15,  9.07942238e+01,  2.59000000e+02],\n",
       "       [ 5.69033700e+06,  0.00000000e+00,  1.92675090e+02,\n",
       "         5.32907052e-15,  6.96750903e+01,  2.58967615e+02],\n",
       "       [ 5.46505900e+06,  0.00000000e+00,  1.52602888e+02,\n",
       "         3.93395625e-01,  6.96750903e+01,  2.58967615e+02],\n",
       "       [ 8.26848800e+06,  0.00000000e+00,  0.00000000e+00,\n",
       "         4.27256318e+01,  9.53826715e+01,  2.02888087e+02],\n",
       "       [ 5.18972200e+06,  0.00000000e+00,  1.08740072e+02,\n",
       "         1.20938628e+00,  7.06324768e+01,  2.55996496e+02],\n",
       "       [ 5.36492500e+06,  0.00000000e+00,  1.34913357e+02,\n",
       "         1.20938628e+00,  7.06324768e+01,  2.55996496e+02],\n",
       "       [ 8.34359100e+06,  0.00000000e+00,  0.00000000e+00,\n",
       "         8.31588448e+01,  7.60685921e+01,  1.75270758e+02],\n",
       "       [ 6.59143000e+06,  0.00000000e+00,  4.41191336e+01,\n",
       "         5.32907052e-15,  1.03429603e+02,  2.58429603e+02],\n",
       "       [ 6.56641000e+06,  0.00000000e+00,  5.00758123e+01,\n",
       "         1.80505415e-01,  1.03429603e+02,  2.58429603e+02],\n",
       "       [ 7.54260600e+06,  0.00000000e+00,  1.14696751e+02,\n",
       "         1.80505415e-01,  7.65342960e+01,  2.39115523e+02],\n",
       "       [ 6.49131400e+06,  0.00000000e+00,  7.02924188e+01,\n",
       "         1.08303249e+00,  9.69314079e+01,  2.57707581e+02],\n",
       "       [ 5.96567100e+06,  0.00000000e+00,  2.00256318e+02,\n",
       "         5.32907052e-15,  6.96750903e+01,  2.58967615e+02],\n",
       "       [ 5.31486500e+06,  0.00000000e+00,  1.25346570e+02,\n",
       "         2.83393502e+00,  7.06324768e+01,  2.55996496e+02],\n",
       "       [ 5.89057600e+06,  0.00000000e+00,  2.03144404e+02,\n",
       "         5.32907052e-15,  6.96750903e+01,  2.58967615e+02],\n",
       "       [ 8.21843200e+06,  0.00000000e+00,  3.39215686e+00,\n",
       "         3.04901961e+01,  8.60294118e+01,  2.08088235e+02],\n",
       "       [ 5.56518100e+06,  0.00000000e+00,  1.74624549e+02,\n",
       "         9.34911871e-01,  6.96750903e+01,  2.58967615e+02],\n",
       "       [ 5.91560400e+06,  0.00000000e+00,  2.03144404e+02,\n",
       "         5.32907052e-15,  6.96750903e+01,  2.58967615e+02],\n",
       "       [ 8.24345600e+06,  0.00000000e+00,  0.00000000e+00,\n",
       "         4.05595668e+01,  9.53826715e+01,  2.02888087e+02],\n",
       "       [ 7.34235500e+06,  0.00000000e+00,  8.14837545e+01,\n",
       "         5.32907052e-15,  9.07942238e+01,  2.59000000e+02],\n",
       "       [ 7.66775200e+06,  0.00000000e+00,  1.07657040e+02,\n",
       "         5.32907052e-15,  6.75090253e+01,  2.13122744e+02],\n",
       "       [ 6.61646100e+06,  0.00000000e+00,  3.94259928e+01,\n",
       "         5.32907052e-15,  1.03429603e+02,  2.58429603e+02],\n",
       "       [ 8.06824100e+06,  0.00000000e+00,  3.83429603e+01,\n",
       "        -8.88178420e-15,  7.16606498e+01,  2.13303249e+02],\n",
       "       [ 7.59266900e+06,  0.00000000e+00,  1.14696751e+02,\n",
       "         1.80505415e-01,  7.31046931e+01,  2.23953069e+02],\n",
       "       [ 5.28983700e+06,  0.00000000e+00,  1.25346570e+02,\n",
       "         2.83393502e+00,  7.06324768e+01,  2.55996496e+02],\n",
       "       [ 7.14211800e+06,  0.00000000e+00,  2.33610108e+01,\n",
       "         1.00000000e+00,  9.07942238e+01,  2.59000000e+02],\n",
       "       [ 6.39119200e+06,  0.00000000e+00,  1.00617329e+02,\n",
       "         5.32907052e-15,  9.33212996e+01,  2.58249097e+02],\n",
       "       [ 8.19339800e+06,  0.00000000e+00,  0.00000000e+00,\n",
       "         1.60649819e+01,  9.63898917e+01,  2.28646209e+02],\n",
       "       [ 6.29107200e+06,  0.00000000e+00,  1.29317690e+02,\n",
       "         5.32907052e-15,  8.57400722e+01,  2.59000000e+02],\n",
       "       [ 7.56763700e+06,  0.00000000e+00,  1.14696751e+02,\n",
       "         1.80505415e-01,  7.65342960e+01,  2.39115523e+02],\n",
       "       [ 5.71535600e+06,  0.00000000e+00,  1.95382671e+02,\n",
       "         5.32907052e-15,  6.96750903e+01,  2.58967615e+02],\n",
       "       [ 5.41499300e+06,  0.00000000e+00,  1.44299639e+02,\n",
       "         2.37895519e+00,  7.06324768e+01,  2.55996496e+02],\n",
       "       [ 6.34112300e+06,  0.00000000e+00,  1.11447653e+02,\n",
       "         5.32907052e-15,  9.33212996e+01,  2.58249097e+02],\n",
       "       [ 6.06579000e+06,  0.00000000e+00,  1.89787004e+02,\n",
       "         5.32907052e-15,  6.66064982e+01,  2.57527076e+02],\n",
       "       [ 7.09204500e+06,  0.00000000e+00,  2.33610108e+01,\n",
       "         1.00000000e+00,  9.07942238e+01,  2.59000000e+02],\n",
       "       [ 7.94309100e+06,  0.00000000e+00,  7.44440433e+01,\n",
       "         5.32907052e-15,  6.28158845e+01,  1.99223827e+02],\n",
       "       [ 6.84174500e+06,  0.00000000e+00,  1.32527076e+01,\n",
       "         1.80505415e-01,  1.03429603e+02,  2.58429603e+02],\n",
       "       [ 5.21476000e+06,  0.00000000e+00,  1.13974729e+02,\n",
       "         3.01444043e+00,  7.06324768e+01,  2.55996496e+02],\n",
       "       [ 5.26480400e+06,  0.00000000e+00,  1.22264706e+02,\n",
       "         1.07843137e+00,  6.42156863e+01,  2.53921569e+02],\n",
       "       [ 5.06456600e+06,  0.00000000e+00,  1.08920578e+02,\n",
       "         1.91642599e+02,  7.04519714e+01,  6.55632831e+01],\n",
       "       [ 6.51634000e+06,  0.00000000e+00,  6.46967509e+01,\n",
       "         1.08303249e+00,  9.69314079e+01,  2.57707581e+02],\n",
       "       [ 5.66530500e+06,  0.00000000e+00,  1.91592058e+02,\n",
       "         5.32907052e-15,  6.96750903e+01,  2.58967615e+02],\n",
       "       [ 8.36861400e+06,  0.00000000e+00,  0.00000000e+00,\n",
       "         9.74187726e+01,  6.97509025e+01,  1.61552347e+02],\n",
       "       [ 6.26603700e+06,  0.00000000e+00,  1.36537906e+02,\n",
       "         5.32907052e-15,  8.05054152e+01,  2.59000000e+02],\n",
       "       [ 7.29229100e+06,  0.00000000e+00,  5.27833935e+01,\n",
       "         5.32907052e-15,  9.07942238e+01,  2.59000000e+02],\n",
       "       [ 5.86554000e+06,  0.00000000e+00,  2.06333333e+02,\n",
       "         5.88235294e-01,  6.34803922e+01,  2.56127451e+02],\n",
       "       [ 7.26726000e+06,  0.00000000e+00,  4.98953069e+01,\n",
       "         5.32907052e-15,  9.07942238e+01,  2.59000000e+02],\n",
       "       [ 4.98949100e+06,  0.00000000e+00,  1.09274510e+02,\n",
       "         1.81372549e+00,  7.00980392e+01,  2.55392157e+02],\n",
       "       [ 7.16713500e+06,  0.00000000e+00,  2.33610108e+01,\n",
       "         1.00000000e+00,  9.07942238e+01,  2.59000000e+02],\n",
       "       [ 5.61523800e+06,  0.00000000e+00,  1.85093863e+02,\n",
       "         5.32907052e-15,  6.96750903e+01,  2.58967615e+02],\n",
       "       [ 7.41744300e+06,  0.00000000e+00,  9.75487365e+01,\n",
       "         5.32907052e-15,  9.07942238e+01,  2.59000000e+02],\n",
       "       [ 7.86799900e+06,  0.00000000e+00,  8.41913357e+01,\n",
       "         1.80505415e-01,  6.28158845e+01,  1.99223827e+02],\n",
       "       [ 7.46751600e+06,  0.00000000e+00,  9.75487365e+01,\n",
       "         5.32907052e-15,  9.40433213e+01,  2.39296029e+02],\n",
       "       [ 6.04076000e+06,  0.00000000e+00,  2.01339350e+02,\n",
       "         5.32907052e-15,  6.66064982e+01,  2.57527076e+02],\n",
       "       [ 6.09082200e+06,  0.00000000e+00,  1.85093863e+02,\n",
       "         5.32907052e-15,  6.66064982e+01,  2.57527076e+02],\n",
       "       [ 6.01573000e+06,  0.00000000e+00,  2.01339350e+02,\n",
       "         5.32907052e-15,  6.66064982e+01,  2.57527076e+02],\n",
       "       [ 6.89180200e+06,  0.00000000e+00,  1.63212996e+01,\n",
       "         5.32907052e-15,  9.07942238e+01,  2.59000000e+02],\n",
       "       [ 6.66652200e+06,  0.00000000e+00,  2.76931408e+01,\n",
       "         5.32907052e-15,  1.03429603e+02,  2.58429603e+02],\n",
       "       [ 5.94063300e+06,  0.00000000e+00,  2.03144404e+02,\n",
       "         5.32907052e-15,  6.96750903e+01,  2.58967615e+02],\n",
       "       [ 6.31609000e+06,  0.00000000e+00,  1.20292419e+02,\n",
       "         1.80505415e-01,  8.73646209e+01,  2.58790614e+02],\n",
       "       [ 5.16469300e+06,  0.00000000e+00,  1.08740072e+02,\n",
       "         1.20938628e+00,  7.06324768e+01,  2.55996496e+02],\n",
       "       [ 5.84052100e+06,  0.00000000e+00,  2.06032491e+02,\n",
       "         5.32907052e-15,  6.96750903e+01,  2.58967615e+02],\n",
       "       [ 5.76541700e+06,  0.00000000e+00,  2.00978339e+02,\n",
       "         5.32907052e-15,  6.96750903e+01,  2.58967615e+02],\n",
       "       [ 8.09327000e+06,  0.00000000e+00,  2.57075812e+01,\n",
       "        -8.88178420e-15,  8.88086643e+01,  2.25758123e+02],\n",
       "       [ 7.11708500e+06,  0.00000000e+00,  2.33610108e+01,\n",
       "         1.00000000e+00,  9.07942238e+01,  2.59000000e+02],\n",
       "       [ 8.16837200e+06,  0.00000000e+00,  1.15884477e+00,\n",
       "         1.80505415e-01,  9.63898917e+01,  2.28646209e+02],\n",
       "       [ 6.14087500e+06,  0.00000000e+00,  1.75166065e+02,\n",
       "         5.32907052e-15,  6.91335740e+01,  2.59000000e+02],\n",
       "       [ 6.46628200e+06,  0.00000000e+00,  7.60685921e+01,\n",
       "         5.32907052e-15,  9.69314079e+01,  2.57707581e+02],\n",
       "       [ 6.19094300e+06,  0.00000000e+00,  1.57657040e+02,\n",
       "         5.32907052e-15,  8.05054152e+01,  2.59000000e+02],\n",
       "       [ 6.91682700e+06,  0.00000000e+00,  1.63212996e+01,\n",
       "         5.32907052e-15,  9.07942238e+01,  2.59000000e+02],\n",
       "       [ 7.69278400e+06,  0.00000000e+00,  1.07657040e+02,\n",
       "         5.32907052e-15,  6.75090253e+01,  2.13122744e+02],\n",
       "       [ 7.84296500e+06,  0.00000000e+00,  8.92454874e+01,\n",
       "         1.80505415e-01,  6.28158845e+01,  1.99223827e+02]])"
      ]
     },
     "execution_count": 8,
     "metadata": {},
     "output_type": "execute_result"
    }
   ],
   "source": [
    "ee"
   ]
  },
  {
   "cell_type": "code",
   "execution_count": 22,
   "metadata": {},
   "outputs": [
    {
     "data": {
      "text/plain": [
       "61"
      ]
     },
     "execution_count": 22,
     "metadata": {},
     "output_type": "execute_result"
    }
   ],
   "source": [
    "np.argmin(kk[:,0])"
   ]
  },
  {
   "cell_type": "code",
   "execution_count": 15,
   "metadata": {},
   "outputs": [],
   "source": [
    "tt = kk[kk[:, 0].argsort()]"
   ]
  },
  {
   "cell_type": "code",
   "execution_count": 16,
   "metadata": {},
   "outputs": [
    {
     "data": {
      "text/plain": [
       "10490312.0"
      ]
     },
     "execution_count": 16,
     "metadata": {},
     "output_type": "execute_result"
    }
   ],
   "source": [
    "np.min(tt[:,0])"
   ]
  },
  {
   "cell_type": "code",
   "execution_count": 17,
   "metadata": {},
   "outputs": [
    {
     "data": {
      "text/plain": [
       "array([[1.33402930e+07, 1.00000000e+00, 0.00000000e+00, 9.63942040e+01,\n",
       "        1.96449319e+02, 9.31368096e+01],\n",
       "       [1.49652880e+07, 1.00000000e+00, 2.85930408e+01, 1.02294355e+02,\n",
       "        2.29883510e+02, 9.31368096e+01],\n",
       "       [1.39902940e+07, 1.00000000e+00, 4.38729198e+00, 1.48890422e+02,\n",
       "        2.32455371e+02, 9.26829518e+01],\n",
       "       ...,\n",
       "       [1.40152880e+07, 1.00000000e+00, 9.83358548e+00, 1.45713417e+02,\n",
       "        2.32455371e+02, 9.26829518e+01],\n",
       "       [1.33902870e+07, 1.00000000e+00, 0.00000000e+00, 1.01840498e+02,\n",
       "        1.89036309e+02, 8.73879443e+01],\n",
       "       [1.53903050e+07, 1.00000000e+00, 7.06505295e+01, 1.10161224e+02,\n",
       "        2.29883510e+02, 9.31368096e+01]])"
      ]
     },
     "execution_count": 17,
     "metadata": {},
     "output_type": "execute_result"
    }
   ],
   "source": [
    "kk"
   ]
  },
  {
   "cell_type": "code",
   "execution_count": 20,
   "metadata": {},
   "outputs": [
    {
     "data": {
      "text/plain": [
       "0"
      ]
     },
     "execution_count": 20,
     "metadata": {},
     "output_type": "execute_result"
    }
   ],
   "source": [
    "np.argmin(tt[:,0])"
   ]
  },
  {
   "cell_type": "code",
   "execution_count": 24,
   "metadata": {},
   "outputs": [
    {
     "data": {
      "text/plain": [
       "array([1., 1., 1., 1., 1., 1., 1., 1., 1., 1., 1., 1., 1., 1., 1., 1., 1.,\n",
       "       1., 1., 1., 1., 1., 1., 1., 1., 1., 1., 1., 1., 1., 1., 1., 1., 1.,\n",
       "       1., 1., 1., 1., 1., 1., 1., 1., 1., 1., 1., 1., 1., 1., 1., 1., 1.,\n",
       "       1., 1., 1., 1., 1., 1., 1., 1., 1., 1., 1., 1., 1., 1., 1., 1., 1.,\n",
       "       1., 1., 1., 1., 1., 1., 1., 1., 1., 1., 1., 1., 1., 1., 1., 1., 1.,\n",
       "       1., 1., 1., 1., 1., 1., 1., 1., 1., 1., 1., 1., 1., 1., 1., 1., 1.,\n",
       "       1., 1., 1., 1., 1., 1., 1., 1., 1., 1., 1., 1., 1., 1., 1., 1., 1.,\n",
       "       1., 1., 1., 1., 1., 1., 1., 1., 1., 1., 1., 1., 1., 1., 1., 1., 1.,\n",
       "       1., 1., 1., 1., 1., 1., 1., 1., 1., 1., 1., 1., 1., 1., 1., 1., 1.,\n",
       "       1., 1., 1., 1., 1., 1., 1., 1., 1., 1., 1., 1., 1., 1., 1., 1., 1.,\n",
       "       1., 1., 1., 1., 1., 1., 1., 1., 1., 1., 1., 1., 1., 1., 1., 1., 1.,\n",
       "       1., 1., 1., 1., 1., 1., 1., 1., 1., 1., 1., 1.])"
      ]
     },
     "execution_count": 24,
     "metadata": {},
     "output_type": "execute_result"
    }
   ],
   "source": [
    "tt[:,1]"
   ]
  },
  {
   "cell_type": "code",
   "execution_count": 30,
   "metadata": {},
   "outputs": [],
   "source": [
    "a = np.array([1,2,4,4,4,5,6])"
   ]
  },
  {
   "cell_type": "code",
   "execution_count": 35,
   "metadata": {},
   "outputs": [],
   "source": [
    "match_frame_tstamp = np.min(a[(a >= 3)])"
   ]
  },
  {
   "cell_type": "code",
   "execution_count": 36,
   "metadata": {},
   "outputs": [],
   "source": [
    "match_boxes = a[a == match_frame_tstamp]"
   ]
  },
  {
   "cell_type": "code",
   "execution_count": 37,
   "metadata": {},
   "outputs": [
    {
     "data": {
      "text/plain": [
       "array([4, 4, 4])"
      ]
     },
     "execution_count": 37,
     "metadata": {},
     "output_type": "execute_result"
    }
   ],
   "source": [
    "match_boxes"
   ]
  },
  {
   "cell_type": "code",
   "execution_count": 2,
   "metadata": {},
   "outputs": [],
   "source": [
    "import cv2\n",
    "\n",
    "def convert_avi_to_mp4(input_file, output_file, fps=30):\n",
    "    # Open the input AVI file\n",
    "    cap = cv2.VideoCapture(input_file)\n",
    "    \n",
    "    # Get the codec and frame size of the input video\n",
    "    fourcc = cv2.VideoWriter_fourcc(*'mp4v')  # Choose the codec for MP4 (H264 is the default)\n",
    "    frame_width = int(cap.get(cv2.CAP_PROP_FRAME_WIDTH))\n",
    "    frame_height = int(cap.get(cv2.CAP_PROP_FRAME_HEIGHT))\n",
    "    \n",
    "    # Create a VideoWriter object to write the MP4 file\n",
    "    out = cv2.VideoWriter(output_file, fourcc, fps, (frame_width, frame_height))\n",
    "    \n",
    "    # Read and write each frame until the end of the video\n",
    "    while cap.isOpened():\n",
    "        ret, frame = cap.read()\n",
    "        if ret:\n",
    "            out.write(frame)\n",
    "        else:\n",
    "            break\n",
    "    \n",
    "    # Release resources\n",
    "    cap.release()\n",
    "    out.release()\n",
    "    cv2.destroyAllWindows()\n"
   ]
  },
  {
   "cell_type": "code",
   "execution_count": 4,
   "metadata": {},
   "outputs": [
    {
     "data": {
      "text/plain": [
       "'/media/udayanga/data_2/shon_data/CODE'"
      ]
     },
     "execution_count": 4,
     "metadata": {},
     "output_type": "execute_result"
    }
   ],
   "source": [
    "import os\n",
    "os.getcwd()"
   ]
  },
  {
   "cell_type": "code",
   "execution_count": 6,
   "metadata": {},
   "outputs": [
    {
     "data": {
      "text/plain": [
       "'/media/udayanga/data_2/shon_data/visualization_videos'"
      ]
     },
     "execution_count": 6,
     "metadata": {},
     "output_type": "execute_result"
    }
   ],
   "source": [
    "os.chdir(\"/media/udayanga/data_2/shon_data/visualization_videos\")\n",
    "os.getcwd()"
   ]
  },
  {
   "cell_type": "code",
   "execution_count": 18,
   "metadata": {},
   "outputs": [],
   "source": [
    "input_file = 'street_lighting.avi'\n",
    "output_file = 'street_lighting.mp4'\n",
    "convert_avi_to_mp4(input_file, output_file)"
   ]
  }
 ],
 "metadata": {
  "kernelspec": {
   "display_name": "udaya",
   "language": "python",
   "name": "python3"
  },
  "language_info": {
   "codemirror_mode": {
    "name": "ipython",
    "version": 3
   },
   "file_extension": ".py",
   "mimetype": "text/x-python",
   "name": "python",
   "nbconvert_exporter": "python",
   "pygments_lexer": "ipython3",
   "version": "3.9.18"
  }
 },
 "nbformat": 4,
 "nbformat_minor": 2
}
