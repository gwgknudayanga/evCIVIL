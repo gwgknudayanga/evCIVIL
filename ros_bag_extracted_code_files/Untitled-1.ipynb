{
 "cells": [
  {
   "cell_type": "code",
   "execution_count": 3,
   "metadata": {},
   "outputs": [],
   "source": [
    "import numpy as np"
   ]
  },
  {
   "cell_type": "code",
   "execution_count": 4,
   "metadata": {},
   "outputs": [],
   "source": [
    "s = np.array([[2,3],[4,5]],dtype=np.float32)"
   ]
  },
  {
   "cell_type": "code",
   "execution_count": 5,
   "metadata": {},
   "outputs": [],
   "source": [
    "import h5py"
   ]
  },
  {
   "cell_type": "code",
   "execution_count": null,
   "metadata": {},
   "outputs": [],
   "source": []
  },
  {
   "cell_type": "code",
   "execution_count": 12,
   "metadata": {},
   "outputs": [],
   "source": [
    "t1 = h5py.File(\"/media/udayanga/data_2/Final_Data_set/To_Labelled/10th_indoor_december_best/h5_files_subset/spalling/_2023-12-10-17-29-28/_2023-12-10-17-29-28_frames.h5\")"
   ]
  },
  {
   "cell_type": "code",
   "execution_count": 13,
   "metadata": {},
   "outputs": [
    {
     "data": {
      "text/plain": [
       "259"
      ]
     },
     "execution_count": 13,
     "metadata": {},
     "output_type": "execute_result"
    }
   ],
   "source": [
    "len(t1[\"frames\"])"
   ]
  },
  {
   "cell_type": "code",
   "execution_count": 4,
   "metadata": {},
   "outputs": [],
   "source": [
    "import h5py"
   ]
  },
  {
   "cell_type": "code",
   "execution_count": 5,
   "metadata": {},
   "outputs": [],
   "source": [
    "image_db_file = \"/media/udayanga/data_2/Final_Data_set/To_Labelled/New_night_outdoor_jaer/27_dec_2023/h5_files/crack/crack_1/crack_1_frames.h5\"\n",
    "event_db_file = \"/media/udayanga/data_2/Final_Data_set/To_Labelled/New_night_outdoor_jaer/27_dec_2023/h5_files/crack/crack_1/crack_1_events.h5\"\n",
    "\n",
    "image_db = h5py.File(image_db_file,\"r\")\n",
    "event_db = h5py.File(event_db_file,\"r\")"
   ]
  },
  {
   "cell_type": "code",
   "execution_count": 6,
   "metadata": {},
   "outputs": [],
   "source": [
    "frame_times = image_db[\"frame_timestamp\"]\n",
    "event_times = event_db[\"event_timestamp\"]"
   ]
  },
  {
   "cell_type": "code",
   "execution_count": 7,
   "metadata": {},
   "outputs": [
    {
     "data": {
      "text/plain": [
       "174857205"
      ]
     },
     "execution_count": 7,
     "metadata": {},
     "output_type": "execute_result"
    }
   ],
   "source": [
    "frame_times[1]"
   ]
  },
  {
   "cell_type": "code",
   "execution_count": 8,
   "metadata": {},
   "outputs": [
    {
     "data": {
      "text/plain": [
       "175927536"
      ]
     },
     "execution_count": 8,
     "metadata": {},
     "output_type": "execute_result"
    }
   ],
   "source": [
    "event_times[0]"
   ]
  },
  {
   "cell_type": "code",
   "execution_count": 9,
   "metadata": {},
   "outputs": [],
   "source": [
    "import numpy as np"
   ]
  },
  {
   "cell_type": "code",
   "execution_count": 10,
   "metadata": {},
   "outputs": [
    {
     "name": "stdout",
     "output_type": "stream",
     "text": [
      "frame vs event time  173027852   173027832   852975\n",
      "frame vs event time  174857205   174857193   1845037\n",
      "frame vs event time  176686558   176686554   2787267\n",
      "frame vs event time  178515911   178515900   3734379\n",
      "frame vs event time  180345264   180345261   4818750\n",
      "frame vs event time  182174618   182174606   6197252\n",
      "frame vs event time  184003971   184003967   7735582\n",
      "frame vs event time  185833324   185833313   9122544\n",
      "frame vs event time  187662677   187662674   10525251\n"
     ]
    }
   ],
   "source": [
    "related_event_idx_list = []\n",
    "for frame_time in frame_times:\n",
    "\n",
    "    related_event_time_idx = np.max(np.argwhere(event_times <= frame_time))\n",
    "    related_event_idx_list.append(related_event_time_idx)\n",
    "    print(\"frame vs event time \",frame_time, \" \",event_times[related_event_time_idx],\" \",related_event_time_idx)\n",
    "    "
   ]
  },
  {
   "cell_type": "code",
   "execution_count": 11,
   "metadata": {},
   "outputs": [
    {
     "data": {
      "text/plain": [
       "[852975,\n",
       " 1845037,\n",
       " 2787267,\n",
       " 3734379,\n",
       " 4818750,\n",
       " 6197252,\n",
       " 7735582,\n",
       " 9122544,\n",
       " 10525251]"
      ]
     },
     "execution_count": 11,
     "metadata": {},
     "output_type": "execute_result"
    }
   ],
   "source": [
    "related_event_idx_list"
   ]
  },
  {
   "cell_type": "code",
   "execution_count": 12,
   "metadata": {},
   "outputs": [],
   "source": [
    "prev_event_idx = 0\n",
    "event_bin_dict = {}\n",
    "bin_start_idx = 0\n",
    "for idx,event_idx in enumerate(related_event_idx_list):\n",
    "    if idx > 0:\n",
    "        event_bin_dict[idx - 1] = (bin_start_idx, prev_event_idx + (event_idx - prev_event_idx)//2)\n",
    "        bin_start_idx = prev_event_idx + (event_idx - prev_event_idx)//2\n",
    "    prev_event_idx = event_idx\n",
    "\n",
    "#for last bin\n",
    "event_bin_dict[len(related_event_idx_list) - 1] =  (bin_start_idx,len(event_times) -1)\n",
    "\n",
    "\n"
   ]
  },
  {
   "cell_type": "code",
   "execution_count": 14,
   "metadata": {},
   "outputs": [
    {
     "name": "stdout",
     "output_type": "stream",
     "text": [
      "0   (0, 1349006)\n",
      "1   (1349006, 2316152)\n",
      "2   (2316152, 3260823)\n",
      "3   (3260823, 4276564)\n",
      "4   (4276564, 5508001)\n",
      "5   (5508001, 6966417)\n",
      "6   (6966417, 8429063)\n",
      "7   (8429063, 9823897)\n",
      "8   (9823897, 11891927)\n"
     ]
    }
   ],
   "source": [
    "for key,value in event_bin_dict.items():\n",
    "    print(key,\" \",value)"
   ]
  },
  {
   "cell_type": "code",
   "execution_count": 28,
   "metadata": {},
   "outputs": [],
   "source": []
  },
  {
   "cell_type": "code",
   "execution_count": 36,
   "metadata": {},
   "outputs": [
    {
     "name": "stdout",
     "output_type": "stream",
     "text": [
      "2473597\n",
      "2631042\n",
      "2788487\n",
      "2945932\n",
      "3103377\n"
     ]
    }
   ],
   "source": [
    "current_bin_min_max = event_bin_dict[2]\n",
    "bin_slice = (current_bin_min_max[1] - current_bin_min_max[0])//6\n",
    "for idx in range(5):\n",
    "    generate_event_frame_around_this_idx = current_bin_min_max[0] + ((idx + 1) * bin_slice)\n",
    "    print(generate_event_frame_around_this_idx)"
   ]
  },
  {
   "cell_type": "code",
   "execution_count": 35,
   "metadata": {},
   "outputs": [
    {
     "data": {
      "text/plain": [
       "(2316152, 3260823)"
      ]
     },
     "execution_count": 35,
     "metadata": {},
     "output_type": "execute_result"
    }
   ],
   "source": [
    "current_bin_min_max"
   ]
  },
  {
   "cell_type": "code",
   "execution_count": null,
   "metadata": {},
   "outputs": [],
   "source": [
    "ev_vol_start_idx = current_match_event_index - 10000\n",
    "        ev_vol_end_idx =  current_match_event_index + 10000\n",
    "        \n",
    "        if ev_vol_start_idx < 0 or ev_vol_end_idx > event_times.shape[0]: \n",
    "            print(\"continue as not a better candidate event volume\")\n",
    "            continue\n",
    "        \n",
    "       \n",
    "        if event_vol_method == 2:\n",
    "            #print(\"current match event idx is \",current_match_event_index)\n",
    "            selected_ev_vol_length = run_area_count_method(events,current_match_event_index,satis_area_event_count = 300,event_packet_step_size = 10)\n",
    "            #satis_area_event_count = 300\n",
    "            #print(\"333333333333333\")\n",
    "            ev_vol_start_idx = current_match_event_index - selected_ev_vol_length\n",
    "            ev_vol_end_idx = current_match_event_index + selected_ev_vol_length\n",
    "\n",
    "        if ev_vol_start_idx < 0 or ev_vol_end_idx > event_times.shape[0]: \n",
    "            print(\"continue as not a better candidate event volume\")\n",
    "            continue\n",
    "        \n",
    "        desired_event_volume = events[ev_vol_start_idx:ev_vol_end_idx,:]\n",
    "        \n",
    "        if encoding_method == 0:\n",
    "            desired_ev_gray_img = make_dvs_frame(desired_event_volume,height=260,width=346,color=False,clip=None)\n",
    "            desired_ev_color_img = make_dvs_frame(desired_event_volume,height=260,width=346,color=True,clip=None,forDisplay=False)      \n",
    "        \n",
    "        modified_images_to_matchtest_path = os.path.join(images_to_matchtest_path,base_name)\n",
    "        #print(\"base name is \",base_name)\n",
    "        #print(\"modified_images_to_matchtest_path \",modified_images_to_matchtest_path)\n",
    "        if not os.path.exists(modified_images_to_matchtest_path):\n",
    "            os.makedirs(os.path.join(modified_images_to_matchtest_path))\n",
    "        \n",
    "        relative_npz_name = base_name + \"_\" + str(current_idx) + \".npz\"\n",
    "        npz_full_name = os.path.join(npz_save_path,relative_npz_name)\n",
    "        np.savez(npz_full_name,ev_gray_img = desired_ev_gray_img, ev_color_img = desired_ev_color_img,\n",
    "                     events=desired_event_volume)\n",
    "        \n",
    "        save_images_for_matchscore_calculation(modified_images_to_matchtest_path,file_id = current_idx,img_array = desired_ev_gray_img,isImgFrame = False)"
   ]
  },
  {
   "cell_type": "code",
   "execution_count": 2,
   "metadata": {},
   "outputs": [
    {
     "data": {
      "text/plain": [
       "5.0"
      ]
     },
     "execution_count": 2,
     "metadata": {},
     "output_type": "execute_result"
    }
   ],
   "source": [
    "import numpy as np\n",
    "np.float32(5)"
   ]
  },
  {
   "cell_type": "code",
   "execution_count": 3,
   "metadata": {},
   "outputs": [
    {
     "ename": "SyntaxError",
     "evalue": "invalid syntax (2445814301.py, line 1)",
     "output_type": "error",
     "traceback": [
      "\u001b[0;36m  Cell \u001b[0;32mIn[3], line 1\u001b[0;36m\u001b[0m\n\u001b[0;31m    cc = np.array([[9.37380000e+05 0.00000000e+00 8.25588235e+01 1.08186275e+02\u001b[0m\n\u001b[0m                                   ^\u001b[0m\n\u001b[0;31mSyntaxError\u001b[0m\u001b[0;31m:\u001b[0m invalid syntax\n"
     ]
    }
   ],
   "source": [
    "cc = np.array([\n",
    "    [9.37380000e+05,0.00000000e+00 8.25588235e+01 1.08186275e+02\n",
    "  1.55392157e+02 1.37500000e+02]\n",
    " [2.01215200e+06 0.00000000e+00 1.41137255e+02 1.32696078e+02\n",
    "  1.93382353e+02 1.24509804e+02]\n",
    " [2.30470500e+06 0.00000000e+00 1.56333333e+02 8.14705882e+01\n",
    "  1.84803922e+02 1.16666667e+02]\n",
    " [2.74598000e+05 0.00000000e+00 3.91764706e+01 1.81372549e+00\n",
    "  7.96568627e+01 7.27941176e+01]\n",
    " [6.24957000e+05 0.00000000e+00 6.33333333e+00 2.97549020e+01\n",
    "  2.48529412e+02 1.86274510e+02]\n",
    " [1.32068100e+06 0.00000000e+00 1.67117647e+02 1.73627451e+02\n",
    "  1.21568627e+02 7.86764706e+01]\n",
    " [1.60732100e+06 0.00000000e+00 1.51186275e+02 1.05490196e+02\n",
    "  1.87745098e+02 1.52696078e+02]\n",
    " [2.25426900e+06 0.00000000e+00 2.15401961e+02 1.79754902e+02\n",
    "  1.29598039e+02 7.85368981e+01]])"
   ]
  },
  {
   "cell_type": "code",
   "execution_count": 4,
   "metadata": {},
   "outputs": [],
   "source": [
    "ttt = []"
   ]
  },
  {
   "cell_type": "code",
   "execution_count": 5,
   "metadata": {},
   "outputs": [
    {
     "data": {
      "text/plain": [
       "0"
      ]
     },
     "execution_count": 5,
     "metadata": {},
     "output_type": "execute_result"
    }
   ],
   "source": [
    "len(ttt)"
   ]
  },
  {
   "cell_type": "code",
   "execution_count": 6,
   "metadata": {},
   "outputs": [],
   "source": [
    "import cv2"
   ]
  },
  {
   "cell_type": "code",
   "execution_count": null,
   "metadata": {},
   "outputs": [],
   "source": []
  },
  {
   "cell_type": "code",
   "execution_count": null,
   "metadata": {},
   "outputs": [],
   "source": [
    "cv2.imwrite()"
   ]
  },
  {
   "cell_type": "code",
   "execution_count": 1,
   "metadata": {},
   "outputs": [],
   "source": [
    "import random\n",
    "\n",
    "temp = [\"hi\",\"bye\",\"fff\",\"kk\",\"sss\",\"mmm\"]\n",
    "qqq = random.sample(temp,4)"
   ]
  },
  {
   "cell_type": "code",
   "execution_count": 2,
   "metadata": {},
   "outputs": [
    {
     "data": {
      "text/plain": [
       "['sss', 'bye', 'hi', 'mmm']"
      ]
     },
     "execution_count": 2,
     "metadata": {},
     "output_type": "execute_result"
    }
   ],
   "source": [
    "qqq"
   ]
  },
  {
   "cell_type": "code",
   "execution_count": 1,
   "metadata": {},
   "outputs": [
    {
     "name": "stdout",
     "output_type": "stream",
     "text": [
      "synth_dtu_spall_33_frames  has  7  files\n",
      "synth_dtu_spall_50_frames  has  8  files\n",
      "synth_dtu_spall_45_frames  has  8  files\n",
      "synth_dtu_spall_16_frames  has  12  files\n",
      "synth_dtu_spall_18_frames  has  17  files\n",
      "synth_dtu_spall_27_frames  has  9  files\n",
      "synth_dtu_spall_12_frames  has  13  files\n",
      "synth_dtu_spall_57_frames  has  7  files\n",
      "synth_dtu_spall_69_frames  has  7  files\n",
      "synth_dtu_spall_13_frames  has  12  files\n",
      "synth_dtu_spall_36_frames  has  13  files\n",
      "synth_dtu_spall_10_frames  has  8  files\n",
      "synth_dtu_spall_3_frames  has  8  files\n",
      "synth_dtu_spall_56_frames  has  5  files\n",
      "synth_dtu_spall_17_frames  has  6  files\n",
      "synth_dtu_spall_20_frames  has  9  files\n",
      "synth_dtu_spall_63_frames  has  8  files\n",
      "synth_dtu_spall_22_frames  has  13  files\n",
      "synth_dtu_spall_30_frames  has  9  files\n",
      "synth_dtu_spall_31_frames  has  7  files\n",
      "synth_dtu_spall_42_frames  has  8  files\n",
      "synth_dtu_spall_48_frames  has  17  files\n",
      "synth_dtu_spall_8_frames  has  6  files\n",
      "synth_dtu_spall_6_frames  has  10  files\n",
      "synth_dtu_spall_46_frames  has  8  files\n",
      "synth_dtu_spall_28_frames  has  10  files\n",
      "synth_dtu_spall_26_frames  has  10  files\n",
      "synth_dtu_spall_37_frames  has  13  files\n",
      "synth_dtu_spall_70_frames  has  10  files\n",
      "synth_dtu_spall_4_frames  has  7  files\n",
      "synth_dtu_spall_65_frames  has  9  files\n",
      "synth_dtu_spall_2_frames  has  7  files\n",
      "synth_dtu_spall_25_frames  has  11  files\n",
      "synth_dtu_spall_39_frames  has  10  files\n",
      "synth_dtu_spall_35_frames  has  13  files\n",
      "synth_dtu_spall_61_frames  has  7  files\n",
      "synth_dtu_spall_59_frames  has  9  files\n",
      "synth_dtu_spall_11_frames  has  5  files\n",
      "synth_dtu_spall_68_frames  has  5  files\n",
      "synth_dtu_spall_64_frames  has  6  files\n",
      "synth_dtu_spall_60_frames  has  11  files\n",
      "synth_dtu_spall_58_frames  has  11  files\n",
      "synth_dtu_spall_24_frames  has  13  files\n",
      "synth_dtu_spall_32_frames  has  10  files\n",
      "synth_dtu_spall_41_frames  has  11  files\n",
      "synth_dtu_spall_51_frames  has  8  files\n",
      "synth_dtu_spall_55_frames  has  6  files\n",
      "synth_dtu_spall_7_frames  has  8  files\n",
      "synth_dtu_spall_53_frames  has  16  files\n",
      "synth_dtu_spall_5_frames  has  9  files\n",
      "synth_dtu_spall_47_frames  has  7  files\n",
      "synth_dtu_spall_23_frames  has  9  files\n",
      "synth_dtu_spall_14_frames  has  8  files\n",
      "synth_dtu_spall_38_frames  has  14  files\n",
      "synth_dtu_spall_21_frames  has  9  files\n",
      "synth_dtu_spall_43_frames  has  7  files\n",
      "synth_dtu_spall_29_frames  has  11  files\n",
      "synth_dtu_spall_9_frames  has  7  files\n",
      "synth_dtu_spall_67_frames  has  8  files\n",
      "synth_dtu_spall_62_frames  has  11  files\n",
      "synth_dtu_spall_34_frames  has  10  files\n",
      "synth_dtu_spall_15_frames  has  8  files\n",
      "synth_dtu_spall_49_frames  has  9  files\n",
      "synth_dtu_spall_40_frames  has  17  files\n",
      "synth_dtu_spall_19_frames  has  12  files\n",
      "synth_dtu_spall_44_frames  has  7  files\n",
      "synth_dtu_spall_54_frames  has  10  files\n",
      "synth_dtu_spall_52_frames  has  12  files\n"
     ]
    }
   ],
   "source": [
    "import glob\n",
    "base_path = \"/media/udayanga/data_2/Final_Data_set/To_Labelled/At_DTU_Synthesized_frames(2)/At_DTU_Synthesized_frames/spalling_frames/\"\n",
    "\n",
    "sub_folders = glob.glob(base_path + \"/*\")\n",
    "\n",
    "for sub_folder in sub_folders:\n",
    "    json_list = glob.glob(sub_folder + \"/*.json\")\n",
    "    print(sub_folder.rsplit(\"/\",1)[1],\" has \",len(json_list),\" files\")"
   ]
  },
  {
   "cell_type": "code",
   "execution_count": 2,
   "metadata": {},
   "outputs": [
    {
     "data": {
      "text/plain": [
       "3"
      ]
     },
     "execution_count": 2,
     "metadata": {},
     "output_type": "execute_result"
    }
   ],
   "source": [
    "164//50"
   ]
  },
  {
   "cell_type": "code",
   "execution_count": 3,
   "metadata": {},
   "outputs": [
    {
     "name": "stdout",
     "output_type": "stream",
     "text": [
      "0\n",
      "1\n",
      "2\n",
      "3\n"
     ]
    }
   ],
   "source": [
    "frame_times = [2,4,7,8]\n",
    "for frame_idx,frame_time in enumerate(frame_times):\n",
    "    print(frame_idx)"
   ]
  },
  {
   "cell_type": "code",
   "execution_count": 5,
   "metadata": {},
   "outputs": [
    {
     "name": "stdout",
     "output_type": "stream",
     "text": [
      "No annotations for  /media/udayanga/data_2/Final_Data_set/To_Labelled/Real_Final/ev_data_2/images_evimages_files/crack/crack_109\n",
      "No annotations for  /media/udayanga/data_2/Final_Data_set/To_Labelled/Real_Final/ev_data_2/images_evimages_files/crack/crack_113\n",
      "No annotations for  /media/udayanga/data_2/Final_Data_set/To_Labelled/Real_Final/ev_data_2/images_evimages_files/crack/crack_110\n",
      "No annotations for  /media/udayanga/data_2/Final_Data_set/To_Labelled/Real_Final/ev_data_2/images_evimages_files/crack/crack_107\n"
     ]
    }
   ],
   "source": [
    "#Try to find videos without any annotation\n",
    "\n",
    "video_files_folder = \"/media/udayanga/data_2/Final_Data_set/To_Labelled/Real_Final/ev_data_2/images_evimages_files/crack/\"\n",
    "\n",
    "video_folders = glob.glob(video_files_folder + \"/*\")\n",
    "\n",
    "for video_folder in video_folders:\n",
    "    json_files = glob.glob(video_folder + \"/*.json\")\n",
    "    if len(json_files) <= 0:\n",
    "        print(\"No annotations for \",video_folder)"
   ]
  },
  {
   "cell_type": "code",
   "execution_count": 2,
   "metadata": {},
   "outputs": [],
   "source": [
    "import numpy as np\n",
    "import h5py"
   ]
  },
  {
   "cell_type": "code",
   "execution_count": 4,
   "metadata": {},
   "outputs": [],
   "source": [
    "event_h5_path = \"/media/udayanga/data_2/Final_Data_set/To_Labelled/Event_data_6_sep_30/h5_files/spalling/spalling_76/spalling_76_events.h5\"\n",
    "eee = h5py.File(event_h5_path,\"r\")"
   ]
  },
  {
   "cell_type": "code",
   "execution_count": 5,
   "metadata": {},
   "outputs": [
    {
     "data": {
      "text/plain": [
       "<KeysViewHDF5 ['event_timestamp', 'polarity', 'x', 'y']>"
      ]
     },
     "execution_count": 5,
     "metadata": {},
     "output_type": "execute_result"
    }
   ],
   "source": [
    "eee.keys()"
   ]
  },
  {
   "cell_type": "code",
   "execution_count": 9,
   "metadata": {},
   "outputs": [],
   "source": [
    "cc = eee[\"event_timestamp\"]"
   ]
  },
  {
   "cell_type": "code",
   "execution_count": 13,
   "metadata": {},
   "outputs": [
    {
     "data": {
      "text/plain": [
       "<HDF5 dataset \"event_timestamp\": shape (48023421,), type \"<u4\">"
      ]
     },
     "execution_count": 13,
     "metadata": {},
     "output_type": "execute_result"
    }
   ],
   "source": [
    "cc"
   ]
  },
  {
   "cell_type": "code",
   "execution_count": 17,
   "metadata": {},
   "outputs": [
    {
     "data": {
      "text/plain": [
       "array([1587960815, 1587963257, 1587963623, 1587963867, 1587963867,\n",
       "       1587964111, 1587965210, 1587965332, 1587966309, 1587966431],\n",
       "      dtype=uint32)"
      ]
     },
     "execution_count": 17,
     "metadata": {},
     "output_type": "execute_result"
    }
   ],
   "source": [
    "cc[:10]"
   ]
  },
  {
   "cell_type": "code",
   "execution_count": 16,
   "metadata": {},
   "outputs": [
    {
     "data": {
      "text/plain": [
       "array([[7]])"
      ]
     },
     "execution_count": 16,
     "metadata": {},
     "output_type": "execute_result"
    }
   ],
   "source": [
    "np.argwhere(np.array(cc) == 1587965332)"
   ]
  },
  {
   "cell_type": "code",
   "execution_count": null,
   "metadata": {},
   "outputs": [],
   "source": [
    "#Coding for data loaders\n",
    "\"\"\"\n",
    "1. Read the npz file \n",
    "2. What are the keys of npz file\n",
    "3. Read the image and labels\n",
    "4. Code the data loader class\n",
    "5. Try to evaluate\n",
    "\"\"\"\n"
   ]
  },
  {
   "cell_type": "code",
   "execution_count": null,
   "metadata": {},
   "outputs": [],
   "source": [
    "#Rename the files."
   ]
  },
  {
   "cell_type": "code",
   "execution_count": 1,
   "metadata": {},
   "outputs": [],
   "source": [
    "from PIL import Image"
   ]
  },
  {
   "cell_type": "code",
   "execution_count": 7,
   "metadata": {},
   "outputs": [],
   "source": [
    "#prepend the file names with, crack\n",
    "import glob\n",
    "import os\n",
    "import shutil\n",
    "base_path = \"/media/udayanga/data_2/Check_common_images_test_and_train/event_dset/Images/train/crack/\"\n",
    "files = glob.glob(base_path + \"/*\")\n",
    "\n",
    "for file in files:\n",
    "    ccc = file.rsplit(\"/\",1)[1]\n",
    "    if \"crack_\" not in ccc:\n",
    "        os.remove(file)\n",
    "    \"\"\"ccc_new = \"crack_\" + ccc\n",
    "    kkk = file.rsplit(\"/\",1)[0]\n",
    "    new_full_name = os.path.join(kkk,ccc_new)\n",
    "    print(new_full_name)\n",
    "    shutil.copy(file,new_full_name)\"\"\""
   ]
  },
  {
   "cell_type": "code",
   "execution_count": 9,
   "metadata": {},
   "outputs": [],
   "source": [
    "import os\n",
    "import h5py"
   ]
  },
  {
   "cell_type": "code",
   "execution_count": 6,
   "metadata": {},
   "outputs": [
    {
     "data": {
      "text/plain": [
       "'/media/udayanga/data_2/Final_Data_set/To_Labelled/ros_bag_extract'"
      ]
     },
     "execution_count": 6,
     "metadata": {},
     "output_type": "execute_result"
    }
   ],
   "source": [
    "os.getcwd()"
   ]
  },
  {
   "cell_type": "markdown",
   "metadata": {},
   "source": []
  },
  {
   "cell_type": "code",
   "execution_count": 12,
   "metadata": {},
   "outputs": [],
   "source": [
    "h5_file = \"/media/udayanga/data_2/Final_Data_set/To_Labelled/New_night_outdoor_jaer/31_dec_23_data/31_dec_23_best/h5_sub_files/crack/31_crack_16/31_crack_16_frames.h5\""
   ]
  },
  {
   "cell_type": "code",
   "execution_count": 13,
   "metadata": {},
   "outputs": [],
   "source": [
    "database = h5py.File(h5_file,\"r\")"
   ]
  },
  {
   "cell_type": "code",
   "execution_count": 15,
   "metadata": {},
   "outputs": [
    {
     "data": {
      "text/plain": [
       "<KeysViewHDF5 ['frame_timestamp', 'frames']>"
      ]
     },
     "execution_count": 15,
     "metadata": {},
     "output_type": "execute_result"
    }
   ],
   "source": [
    "database.keys()"
   ]
  },
  {
   "cell_type": "code",
   "execution_count": 16,
   "metadata": {},
   "outputs": [
    {
     "data": {
      "text/plain": [
       "<HDF5 dataset \"frame_timestamp\": shape (162,), type \"<u8\">"
      ]
     },
     "execution_count": 16,
     "metadata": {},
     "output_type": "execute_result"
    }
   ],
   "source": [
    "database[\"frame_timestamp\"]"
   ]
  },
  {
   "cell_type": "code",
   "execution_count": null,
   "metadata": {},
   "outputs": [],
   "source": []
  }
 ],
 "metadata": {
  "kernelspec": {
   "display_name": "udaya_venv",
   "language": "python",
   "name": "python3"
  },
  "language_info": {
   "codemirror_mode": {
    "name": "ipython",
    "version": 3
   },
   "file_extension": ".py",
   "mimetype": "text/x-python",
   "name": "python",
   "nbconvert_exporter": "python",
   "pygments_lexer": "ipython3",
   "version": "3.9.18"
  }
 },
 "nbformat": 4,
 "nbformat_minor": 2
}
