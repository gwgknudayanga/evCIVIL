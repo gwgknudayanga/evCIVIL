{
 "cells": [
  {
   "cell_type": "code",
   "execution_count": null,
   "id": "8d36c985-037f-4a73-83a5-13b986a1db75",
   "metadata": {},
   "outputs": [],
   "source": [
    "output_path = \"train_anns.txt\""
   ]
  }
 ],
 "metadata": {
  "kernelspec": {
   "display_name": "venv_seg_anything",
   "language": "python",
   "name": "venv_seg_anything"
  },
  "language_info": {
   "codemirror_mode": {
    "name": "ipython",
    "version": 3
   },
   "file_extension": ".py",
   "mimetype": "text/x-python",
   "name": "python",
   "nbconvert_exporter": "python",
   "pygments_lexer": "ipython3",
   "version": "3.9.5"
  }
 },
 "nbformat": 4,
 "nbformat_minor": 5
}
